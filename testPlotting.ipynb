{
 "cells": [
  {
   "cell_type": "code",
   "execution_count": 85,
   "metadata": {
    "collapsed": false
   },
   "outputs": [],
   "source": [
    "%matplotlib inline\n",
    "import matplotlib\n",
    "import matplotlib.pyplot as plt\n",
    "import pickle\n",
    "import numpy as np\n",
    "import pandas as pd\n",
    "from data_interpreter_with_excision import dataInterpreter, metaDataEndomondo\n",
    "\n",
    "global endo_reader\n",
    "endo_reader = None\n",
    "\n",
    "def loadData(fileName):\n",
    "    print(\"Loading data file\")\n",
    "    with open(fileName, \"rb\") as f:\n",
    "        data = pickle.load(f)\n",
    "    #except:\n",
    "    #    raise(IOError(\"Data file: \" + fileName + \" not in valid pickle format\"))\n",
    "    print(\"Data file loaded\")\n",
    "    return data\n",
    "        \n",
    "            \n",
    "class dataEpoch(object):\n",
    "    def __init__(self, targetSeq, logitSeq, inputSeq, outputsSeq, outputSeq, epochNum):\n",
    "        self.inputSeq = inputSeq\n",
    "        self.targetSeq = targetSeq\n",
    "        self.logitSeq = logitSeq\n",
    "        #self.outputsSeq = outputsSeq\n",
    "        #self.outputSeq = outputSeq\n",
    "        global endoFeatures\n",
    "        global inputOrderNames\n",
    "        global model\n",
    "        global lossType\n",
    "        self.epochNum = epochNum\n",
    "        self.endoFeatures = endoFeatures\n",
    "        self.inputOrderNames = inputOrderNames\n",
    "        self.targetAtt = targetAtt\n",
    "        self.modelType = model\n",
    "        self.lossType = lossType\n",
    "        self.trainValTestSplit = trainValTestSplit\n",
    "        self.modelRunIdentifier = modelRunIdentifier\n",
    "        self.zMultiple = zMultiple\n",
    "        \n",
    "def rescaleZscoredData(data, sequence, att):\n",
    "    #Removes the z score scaling. Does this by loading an endoreader and getting the varmeans and stds from that, \n",
    "    #then performing arithmetic operations on the data sequence\n",
    "    global endo_reader\n",
    "    if endo_reader is None:\n",
    "        endo_reader = dataInterpreter(fn=\"../multimodalDBM/endomondoHR_proper.json\", scaleVals=True)\n",
    "        endo_reader.buildDataSchema(data.endoFeatures, data.targetAtt, data.trainValTestSplit, data.zMultiple)\n",
    "        \n",
    "    variableMeans = endo_reader.variableMeans\n",
    "    variableStds = endo_reader.variableStds\n",
    "    \n",
    "    unMult = [x/float(data.zMultiple) for x in sequence]\n",
    "    diff = [x*float(variableStds[att]) for x in unMult]\n",
    "    raw = [x+float(variableMeans[att]) for x in diff]\n",
    "    return raw\n",
    "        \n",
    "def transformData(data, sequenceLength=500, unZscore = True, useInputs=False):\n",
    "    #Rewrite this to split at the new workout marker!!!\n",
    "    isSequence = {'altitude':True, 'gender':False, 'heart_rate':True, 'id':False, 'latitude':True, 'longitude':True,\n",
    "                             'speed':True, 'sport':False, 'timestamp':True, 'url':False, 'userId':False, 'time_elapsed': True, \n",
    "                             'distance':True, 'new_workout':True, 'derived_speed':True}\n",
    "    \n",
    "    if useInputs:\n",
    "        inputAtts = [x for x in data.endoFeatures if x != data.targetAtt]\n",
    "    if unZscore:\n",
    "        predictionsList = rescaleZscoredData(data, data.logitSeq, data.targetAtt)\n",
    "        targetsList = rescaleZscoredData(data, data.targetSeq, data.targetAtt)\n",
    "        if useInputs:\n",
    "            attLists = []\n",
    "            #inputsList = data.inputSeq\n",
    "            for i, att in enumerate(inputAtts):\n",
    "                if isSequence[att]:\n",
    "                    curAttList = [data.inputSeq[j][i] for j in range(len(data.inputSeq))]\n",
    "                    attLists.append(rescaleZscoredData(data, curAttList, att))\n",
    "                else:\n",
    "                    attLists.append(data.inputSeq[i])\n",
    "            #Now I need to zip them\n",
    "            #inputsList = [[x[i] for x in attLists] for i in range(len(data.inputSeq))]#Intense code ;)\n",
    "    else:\n",
    "        predictionsList = data.logitSeq\n",
    "        targetsList = data.targetSeq\n",
    "        if useInputs:\n",
    "            #inputsList = data.inputSeq\n",
    "            attLists = []\n",
    "            for i, att in enumerate(inputAtts):\n",
    "                #if isSequence[att]:\n",
    "                curAttList = [data.inputSeq[j][i] for j in range(len(data.inputSeq))]\n",
    "                attLists.append(curAttList)\n",
    "                #else:\n",
    "                #    attLists.append(data.inputSeq[j][i])\n",
    "                    \n",
    "            \n",
    "            #print(\"first entry of inputslist: \" + str(inputsList[0]))\n",
    "            #print(\"len prelist: \" + str(len(predictionsList)))\n",
    "            #print(\"len tarlist: \" + str(len(targetsList)))\n",
    "            #print(\"len inplist: \" + str(len(inputsList)))\n",
    "        \n",
    "    numRows = int(len(predictionsList)/sequenceLength)\n",
    "    predictionsByWorkout = np.zeros((numRows, sequenceLength))\n",
    "    targetsByWorkout = np.zeros((numRows, sequenceLength))\n",
    "    if useInputs:\n",
    "        #inputsByWorkout = np.zeros((numRows, sequenceLength),dtype=list)\n",
    "        inputAttsByWorkout = {}\n",
    "        for i, att in enumerate(inputAtts):\n",
    "            #inputAttsByWorkout[att] = np.zeros((numRows, sequenceLength))\n",
    "            inputAttsByWorkout[att] = []\n",
    "    #Now transform the lists into n x 500 arrays\n",
    "    for i in range(numRows):\n",
    "        predictionsByWorkout[i,:] = predictionsList[i*sequenceLength : (i+1)*sequenceLength]\n",
    "        targetsByWorkout[i,:] = targetsList[i*sequenceLength : (i+1)*sequenceLength]\n",
    "        if useInputs:\n",
    "            for k, att in enumerate(inputAtts):\n",
    "                currentAttList = attLists[k]\n",
    "                #print currentAttList\n",
    "                #inputAttsByWorkout[att][i,:] = currentAttList[i*sequenceLength : (i+1)*sequenceLength]\n",
    "                inputAttsByWorkout[att].append(currentAttList[i*sequenceLength : (i+1)*sequenceLength])\n",
    "            #for j in range(sequenceLength):\n",
    "                #temp = inputsList[i*sequenceLength+j]\n",
    "                #inputsByWorkout[i,j] = temp\n",
    "                #print(i)\n",
    "                #print(j)\n",
    "                    \n",
    "            \n",
    "    if useInputs:\n",
    "        #return (predictionsByWorkout, targetsByWorkout, inputsByWorkout, inputAttsByWorkout)\n",
    "        return (predictionsByWorkout, targetsByWorkout, inputAttsByWorkout)\n",
    "    else:\n",
    "        return (predictionsByWorkout, targetsByWorkout)\n",
    "\n",
    "def buildDataFrame(data, unZscore = True, useInputs=True):\n",
    "    predictionsByWorkout, targetsByWorkout, inputAttsByWorkout = transformData(data, sequenceLength=500, \n",
    "                                                                                                unZscore=unZscore, useInputs=useInputs)\n",
    "    \n",
    "    inputOrderSeq = [x for x in data.endoFeatures if x!= data.targetAtt]\n",
    "\n",
    "    #Now build a PANDAS dataframe\n",
    "    columns = ['Targets','Predictions']\n",
    "    columns.extend(inputOrderSeq)\n",
    "    df = pd.DataFrame(columns=columns, dtype='object')\n",
    "    df['Targets'] = targetsByWorkout\n",
    "    df['Predictions'] = predictionsByWorkout\n",
    "    \n",
    "    for i, att in enumerate(inputOrderSeq):\n",
    "        if isSequence[att]:\n",
    "            #Take the whole sequence\n",
    "            df[att] = inputAttsByWorkout[att]\n",
    "        else:\n",
    "            #Take just the first value\n",
    "            pass\n",
    "        \n",
    "    return df\n",
    "    \n",
    "\n",
    "def sampleAverageBenchmark(data, unZscore = True, errorType=\"MAE\"):\n",
    "    \"\"\"Computes the error of a model that takes the sample average of the predictions and uses it to predict each data point\n",
    "    This is only equivalent to using the full data average as a predictor if the sample includes all data points from the\n",
    "    data set and only data points from the data set with no repeats.\n",
    "    \"\"\"\n",
    "    if unZscore:\n",
    "        targetsList = rescaleZscoredData(data, data.targetSeq, data.targetAtt)\n",
    "    else:\n",
    "        targetsList = data.targetSeq\n",
    "    meanTarget = np.mean(targetsList)\n",
    "    #print(meanTarget)\n",
    "    if errorType == \"MAE\":\n",
    "        errorScore = np.mean([abs((target)-meanTarget) for target in targetsList])\n",
    "    if errorType == \"RMSE\":\n",
    "        errorScore = np.sqrt(np.mean([pow(((target)-meanTarget),2) for target in targetsList]))\n",
    "    #else:\n",
    "    #    raise(exception(\"Error type not recognized\"))\n",
    "    \n",
    "    return errorScore\n",
    "\n",
    "def sampleModelPerformance(data, unZscore = True, errorType=\"MAE\"):\n",
    "    if unZscore:\n",
    "        predictionsList = rescaleZscoredData(data, data.logitSeq, data.targetAtt)\n",
    "        targetsList = rescaleZscoredData(data, data.targetSeq, data.targetAtt)\n",
    "    else:\n",
    "        predictionsList = data.logitSeq\n",
    "        targetsList = data.targetSeq\n",
    "    \n",
    "    if errorType == \"MAE\":\n",
    "        errorScore = np.mean([abs((targetsList[i])-(predictionsList[i])) for i in range(len(predictionsList))])\n",
    "    if errorType == \"RMSE\":\n",
    "        errorScore = np.sqrt(np.mean([pow(((targetsList[i])-(predictionsList[i])),2) for i in range(len(predictionsList))]))\n",
    "    #else:\n",
    "    #    raise(exception(\"Error type not recognized\"))\n",
    "    \n",
    "    return errorScore\n",
    "        \n",
    "\n",
    "def plotPerformance(data, plotTitle=None, plotErrorBars=False):\n",
    "    predictionsByWorkout, targetsByWorkout = transformData(data)\n",
    "    residuals = predictionsByWorkout-targetsByWorkout\n",
    "    #Compute the means and standard deviations of the residuals\n",
    "    means = residuals.mean(0)\n",
    "    stds = residuals.std(0)\n",
    "    indices=np.array(range(len(means)))\n",
    "    #Plot the mean exercise sequence with error bars representing the standard deviation\n",
    "    fig = plt.figure()\n",
    "    if plotErrorBars:\n",
    "        plt.errorbar(indices, means, yerr=stds)\n",
    "    else:\n",
    "        plt.plot(indices, means)\n",
    "        \n",
    "    #Label the plot with the epoch number, the model type, the error measure, and the data variables\n",
    "    if plotTitle is None:\n",
    "        mt = data.modelType\n",
    "        lt = data.lossType\n",
    "        ef = str(data.endoFeatures)\n",
    "        en = str(data.epochNum)\n",
    "        plt.title(mt + \", \" + lt + \", \" + ef + \", epoch:\" + en)\n",
    "    else:\n",
    "        plt.title(plotTitle)\n",
    "    MAE=np.mean(abs(means))\n",
    "    fig.suptitle(\"Mean absolute error: \" + str(MAE))\n",
    "    plt.show()\n"
   ]
  },
  {
   "cell_type": "code",
   "execution_count": 15,
   "metadata": {
    "collapsed": false
   },
   "outputs": [
    {
     "name": "stdout",
     "output_type": "stream",
     "text": [
      "Loading data file\n"
     ]
    },
    {
     "ename": "IOError",
     "evalue": "[Errno 2] No such file or directory: 'logs/fullData/03_36PM_October_26_2016_epoch_10'",
     "output_type": "error",
     "traceback": [
      "\u001b[1;31m---------------------------------------------------------------------------\u001b[0m",
      "\u001b[1;31mIOError\u001b[0m                                   Traceback (most recent call last)",
      "\u001b[1;32m<ipython-input-15-4fd05fd5be43>\u001b[0m in \u001b[0;36m<module>\u001b[1;34m()\u001b[0m\n\u001b[0;32m      1\u001b[0m \u001b[1;31m#data = loadData('logs/fullData/12_30PM_October_26_2016_epoch_10')\u001b[0m\u001b[1;33m\u001b[0m\u001b[1;33m\u001b[0m\u001b[0m\n\u001b[1;32m----> 2\u001b[1;33m \u001b[0mdata\u001b[0m \u001b[1;33m=\u001b[0m \u001b[0mloadData\u001b[0m\u001b[1;33m(\u001b[0m\u001b[1;34m'logs/fullData/03_36PM_October_26_2016_epoch_10'\u001b[0m\u001b[1;33m)\u001b[0m\u001b[1;33m\u001b[0m\u001b[0m\n\u001b[0m",
      "\u001b[1;32m<ipython-input-14-131e59d4da30>\u001b[0m in \u001b[0;36mloadData\u001b[1;34m(fileName)\u001b[0m\n\u001b[0;32m     12\u001b[0m \u001b[1;32mdef\u001b[0m \u001b[0mloadData\u001b[0m\u001b[1;33m(\u001b[0m\u001b[0mfileName\u001b[0m\u001b[1;33m)\u001b[0m\u001b[1;33m:\u001b[0m\u001b[1;33m\u001b[0m\u001b[0m\n\u001b[0;32m     13\u001b[0m     \u001b[1;32mprint\u001b[0m\u001b[1;33m(\u001b[0m\u001b[1;34m\"Loading data file\"\u001b[0m\u001b[1;33m)\u001b[0m\u001b[1;33m\u001b[0m\u001b[0m\n\u001b[1;32m---> 14\u001b[1;33m     \u001b[1;32mwith\u001b[0m \u001b[0mopen\u001b[0m\u001b[1;33m(\u001b[0m\u001b[0mfileName\u001b[0m\u001b[1;33m,\u001b[0m \u001b[1;34m\"rb\"\u001b[0m\u001b[1;33m)\u001b[0m \u001b[1;32mas\u001b[0m \u001b[0mf\u001b[0m\u001b[1;33m:\u001b[0m\u001b[1;33m\u001b[0m\u001b[0m\n\u001b[0m\u001b[0;32m     15\u001b[0m         \u001b[0mdata\u001b[0m \u001b[1;33m=\u001b[0m \u001b[0mpickle\u001b[0m\u001b[1;33m.\u001b[0m\u001b[0mload\u001b[0m\u001b[1;33m(\u001b[0m\u001b[0mf\u001b[0m\u001b[1;33m)\u001b[0m\u001b[1;33m\u001b[0m\u001b[0m\n\u001b[0;32m     16\u001b[0m     \u001b[1;31m#except:\u001b[0m\u001b[1;33m\u001b[0m\u001b[1;33m\u001b[0m\u001b[0m\n",
      "\u001b[1;31mIOError\u001b[0m: [Errno 2] No such file or directory: 'logs/fullData/03_36PM_October_26_2016_epoch_10'"
     ]
    }
   ],
   "source": [
    "#data = loadData('logs/fullData/12_30PM_October_26_2016_epoch_10')\n",
    "data = loadData('logs/fullData/03_36PM_October_26_2016_epoch_10')"
   ]
  },
  {
   "cell_type": "code",
   "execution_count": 16,
   "metadata": {
    "collapsed": false
   },
   "outputs": [
    {
     "ename": "NameError",
     "evalue": "global name 'dataByWorkout' is not defined",
     "output_type": "error",
     "traceback": [
      "\u001b[1;31m---------------------------------------------------------------------------\u001b[0m",
      "\u001b[1;31mNameError\u001b[0m                                 Traceback (most recent call last)",
      "\u001b[1;32m<ipython-input-16-e886effa3536>\u001b[0m in \u001b[0;36m<module>\u001b[1;34m()\u001b[0m\n\u001b[1;32m----> 1\u001b[1;33m \u001b[0mdataByWorkout\u001b[0m\u001b[1;33m=\u001b[0m\u001b[0mtransformData\u001b[0m\u001b[1;33m(\u001b[0m\u001b[0mdata\u001b[0m\u001b[1;33m)\u001b[0m\u001b[1;33m\u001b[0m\u001b[0m\n\u001b[0m",
      "\u001b[1;32m<ipython-input-14-5f6818e118f7>\u001b[0m in \u001b[0;36mtransformData\u001b[1;34m(data)\u001b[0m\n\u001b[0;32m     29\u001b[0m \u001b[1;33m\u001b[0m\u001b[0m\n\u001b[0;32m     30\u001b[0m     \u001b[1;31m#Now transform the lists into n x 500 arrays\u001b[0m\u001b[1;33m\u001b[0m\u001b[1;33m\u001b[0m\u001b[0m\n\u001b[1;32m---> 31\u001b[1;33m     \u001b[0mdataByWorkout\u001b[0m\u001b[1;33m\u001b[0m\u001b[0m\n\u001b[0m\u001b[0;32m     32\u001b[0m \u001b[1;33m\u001b[0m\u001b[0m\n\u001b[0;32m     33\u001b[0m     \u001b[1;32mreturn\u001b[0m \u001b[0mdataByWorkout\u001b[0m\u001b[1;33m\u001b[0m\u001b[0m\n",
      "\u001b[1;31mNameError\u001b[0m: global name 'dataByWorkout' is not defined"
     ]
    }
   ],
   "source": [
    "dataByWorkout=transformData(data)"
   ]
  },
  {
   "cell_type": "code",
   "execution_count": 49,
   "metadata": {
    "collapsed": false
   },
   "outputs": [
    {
     "data": {
      "text/plain": [
       "(506, 500, 1)"
      ]
     },
     "execution_count": 49,
     "metadata": {},
     "output_type": "execute_result"
    }
   ],
   "source": [
    "np.shape(data.targetSeq)"
   ]
  },
  {
   "cell_type": "code",
   "execution_count": 50,
   "metadata": {
    "collapsed": false
   },
   "outputs": [
    {
     "data": {
      "text/plain": [
       "(253000, 1)"
      ]
     },
     "execution_count": 50,
     "metadata": {},
     "output_type": "execute_result"
    }
   ],
   "source": [
    "np.shape(data.logitSeq)"
   ]
  },
  {
   "cell_type": "code",
   "execution_count": 48,
   "metadata": {
    "collapsed": false
   },
   "outputs": [
    {
     "data": {
      "text/plain": [
       "(12650, 20, 1160)"
      ]
     },
     "execution_count": 48,
     "metadata": {},
     "output_type": "execute_result"
    }
   ],
   "source": [
    "np.shape(data.inputSeq)"
   ]
  },
  {
   "cell_type": "code",
   "execution_count": 26,
   "metadata": {
    "collapsed": false
   },
   "outputs": [
    {
     "name": "stdout",
     "output_type": "stream",
     "text": [
      "Loading data file\n",
      "Data file loaded\n"
     ]
    }
   ],
   "source": [
    "dataNew = loadData('logs/fullData/02_05PM_October_29_2016_epoch_1')"
   ]
  },
  {
   "cell_type": "code",
   "execution_count": 45,
   "metadata": {
    "collapsed": false
   },
   "outputs": [
    {
     "data": {
      "text/plain": [
       "(506, 500, 1)"
      ]
     },
     "execution_count": 45,
     "metadata": {},
     "output_type": "execute_result"
    }
   ],
   "source": [
    "np.shape(dataNew.targetSeq)"
   ]
  },
  {
   "cell_type": "code",
   "execution_count": 28,
   "metadata": {
    "collapsed": false
   },
   "outputs": [
    {
     "data": {
      "text/plain": [
       "array([ 17.69545364], dtype=float32)"
      ]
     },
     "execution_count": 28,
     "metadata": {},
     "output_type": "execute_result"
    }
   ],
   "source": [
    "dataNew.logitSeq[0][0:2]"
   ]
  },
  {
   "cell_type": "code",
   "execution_count": 46,
   "metadata": {
    "collapsed": false
   },
   "outputs": [
    {
     "data": {
      "text/plain": [
       "(12650, 20, 200)"
      ]
     },
     "execution_count": 46,
     "metadata": {},
     "output_type": "execute_result"
    }
   ],
   "source": [
    "np.shape(dataNew.outputsSeq)"
   ]
  },
  {
   "cell_type": "code",
   "execution_count": 47,
   "metadata": {
    "collapsed": false
   },
   "outputs": [
    {
     "data": {
      "text/plain": [
       "(253000, 200)"
      ]
     },
     "execution_count": 47,
     "metadata": {},
     "output_type": "execute_result"
    }
   ],
   "source": [
    "np.shape(dataNew.outputSeq)"
   ]
  },
  {
   "cell_type": "code",
   "execution_count": 6,
   "metadata": {
    "collapsed": true
   },
   "outputs": [],
   "source": [
    "import numpy as np"
   ]
  },
  {
   "cell_type": "code",
   "execution_count": 51,
   "metadata": {
    "collapsed": false
   },
   "outputs": [
    {
     "data": {
      "text/plain": [
       "253000"
      ]
     },
     "execution_count": 51,
     "metadata": {},
     "output_type": "execute_result"
    }
   ],
   "source": [
    "12650*20"
   ]
  },
  {
   "cell_type": "code",
   "execution_count": 52,
   "metadata": {
    "collapsed": false
   },
   "outputs": [
    {
     "data": {
      "text/plain": [
       "253000"
      ]
     },
     "execution_count": 52,
     "metadata": {},
     "output_type": "execute_result"
    }
   ],
   "source": [
    "506*500"
   ]
  },
  {
   "cell_type": "code",
   "execution_count": 9,
   "metadata": {
    "collapsed": false
   },
   "outputs": [
    {
     "name": "stdout",
     "output_type": "stream",
     "text": [
      "Loading data file\n",
      "Data file loaded\n"
     ]
    }
   ],
   "source": [
    "#dataNewNew = loadData('logs/fullData/02_50PM_October_29_2016_epoch_4')\n",
    "#dataNewNew = loadData('logs/fullData/03_03PM_October_29_2016_epoch_10')\n",
    "#dataNewNew = loadData('logs/fullData/03_39PM_October_29_2016_epoch_14')\n",
    "#dataNewNew = loadData('logs/fullData/03_39PM_October_29_2016_epoch_39')\n",
    "dataNewNew = loadData('logs/fullData/05_36PM_October_29_2016_epoch_39')"
   ]
  },
  {
   "cell_type": "code",
   "execution_count": 6,
   "metadata": {
    "collapsed": false
   },
   "outputs": [
    {
     "name": "stdout",
     "output_type": "stream",
     "text": [
      "Target shape: (252700, 1)\n",
      "Logit shape: (252700, 1)\n"
     ]
    }
   ],
   "source": [
    "print(\"Target shape: \" + str(np.shape(dataNewNew.targetSeq)))\n",
    "print(\"Logit shape: \" + str(np.shape(dataNewNew.logitSeq)))"
   ]
  },
  {
   "cell_type": "code",
   "execution_count": 4,
   "metadata": {
    "collapsed": false
   },
   "outputs": [],
   "source": [
    "#dataNewNew.targetSeq[0:99]"
   ]
  },
  {
   "cell_type": "code",
   "execution_count": 3,
   "metadata": {
    "collapsed": false
   },
   "outputs": [],
   "source": [
    "#dataNewNew.logitSeq[0:99]"
   ]
  },
  {
   "cell_type": "code",
   "execution_count": 10,
   "metadata": {
    "collapsed": false
   },
   "outputs": [
    {
     "data": {
      "text/plain": [
       "array([[  4.79778671],\n",
       "       [  4.79315233],\n",
       "       [  4.78863716],\n",
       "       [  3.7843883 ],\n",
       "       [  3.78040981],\n",
       "       [  3.77674389],\n",
       "       [  4.77331877],\n",
       "       [  7.77015114],\n",
       "       [  8.76720238],\n",
       "       [  9.76435852],\n",
       "       [ 10.76155853],\n",
       "       [ 11.75883389],\n",
       "       [ 11.75622654],\n",
       "       [ 11.75370789],\n",
       "       [ 11.75123405],\n",
       "       [  9.74889088],\n",
       "       [  8.74668312],\n",
       "       [  7.7445507 ],\n",
       "       [  6.74250698],\n",
       "       [  5.74053812],\n",
       "       [  3.91477346],\n",
       "       [  1.90266967],\n",
       "       [  2.89753079],\n",
       "       [  2.89453554],\n",
       "       [  2.89225578],\n",
       "       [  2.89051247],\n",
       "       [  4.88922024],\n",
       "       [  4.8877449 ],\n",
       "       [  5.88625669],\n",
       "       [  6.88478374],\n",
       "       [  6.88335323],\n",
       "       [  7.8820734 ],\n",
       "       [  7.88080692],\n",
       "       [  7.87970448],\n",
       "       [  7.87851238],\n",
       "       [  7.8774395 ],\n",
       "       [  6.87643909],\n",
       "       [  5.87543869],\n",
       "       [  4.87445307],\n",
       "       [  2.87371874],\n",
       "       [  1.87288225],\n",
       "       [  0.87210536],\n",
       "       [ -1.12861395],\n",
       "       [ -2.12897348],\n",
       "       [ -1.12953782],\n",
       "       [ -0.12995303],\n",
       "       [ -0.13048947],\n",
       "       [  1.86927617],\n",
       "       [  1.86879933],\n",
       "       [  2.86838412],\n",
       "       [  3.86798382],\n",
       "       [  6.86761761],\n",
       "       [  6.86715555],\n",
       "       [  7.86672544],\n",
       "       [  7.86632299],\n",
       "       [  6.92212582],\n",
       "       [  6.91287231],\n",
       "       [  6.90972805],\n",
       "       [  5.90865326],\n",
       "       [  4.90811443],\n",
       "       [  3.90782952],\n",
       "       [  5.90798283],\n",
       "       [  5.90778875],\n",
       "       [  6.90791035],\n",
       "       [  6.90831232],\n",
       "       [  6.90823793],\n",
       "       [  6.90814877],\n",
       "       [  6.90805912],\n",
       "       [  5.90805721],\n",
       "       [  5.90814638],\n",
       "       [  5.90802717],\n",
       "       [  5.90810204],\n",
       "       [  4.90805531],\n",
       "       [  4.90798044],\n",
       "       [  3.90796375],\n",
       "       [  3.90791893],\n",
       "       [  2.90805101],\n",
       "       [  3.90809774],\n",
       "       [  4.90815926],\n",
       "       [  5.90814638],\n",
       "       [  7.90841866],\n",
       "       [  8.90845108],\n",
       "       [  9.90861702],\n",
       "       [ 10.90860367],\n",
       "       [ 11.90860558],\n",
       "       [ 12.90865231],\n",
       "       [ 13.90862465],\n",
       "       [ 14.90856743],\n",
       "       [ 16.90873528],\n",
       "       [ 13.90901184],\n",
       "       [ 11.67590904],\n",
       "       [  9.75832367],\n",
       "       [  6.78607845],\n",
       "       [  4.79601336],\n",
       "       [  4.79973841],\n",
       "       [  4.80121374],\n",
       "       [  4.80180979],\n",
       "       [  3.80213547],\n",
       "       [  3.80228472],\n",
       "       [  2.80244637],\n",
       "       [  1.80272758],\n",
       "       [  2.80283403],\n",
       "       [  1.80318952],\n",
       "       [  0.80357492],\n",
       "       [  0.80381334],\n",
       "       [  1.80399418],\n",
       "       [  1.8042028 ],\n",
       "       [  1.8042922 ],\n",
       "       [  1.80439651],\n",
       "       [  2.80445814],\n",
       "       [  1.80451572],\n",
       "       [  2.80463696],\n",
       "       [  1.80475414],\n",
       "       [  2.80484557],\n",
       "       [  1.80503726],\n",
       "       [  3.80522013],\n",
       "       [  3.80532455],\n",
       "       [  5.8054924 ],\n",
       "       [  5.80556679],\n",
       "       [  6.80567312],\n",
       "       [  6.80583715],\n",
       "       [  6.80595636],\n",
       "       [  6.80603075],\n",
       "       [  5.80614805],\n",
       "       [  5.80622244],\n",
       "       [  5.27854252],\n",
       "       [  4.28178883],\n",
       "       [  1.28373504],\n",
       "       [  0.2849102 ],\n",
       "       [ -0.71425736],\n",
       "       [ -1.71390176],\n",
       "       [ -0.71357191],\n",
       "       [  0.28681755],\n",
       "       [  0.28698146],\n",
       "       [ -0.71285665],\n",
       "       [  0.28723478],\n",
       "       [  0.2874583 ],\n",
       "       [  0.28759241],\n",
       "       [  1.28789246],\n",
       "       [  1.28820539],\n",
       "       [  2.28837132],\n",
       "       [  2.28868437],\n",
       "       [  2.28884816],\n",
       "       [  3.28905869],\n",
       "       [  3.28920794],\n",
       "       [  3.28934193],\n",
       "       [  4.28961229],\n",
       "       [  6.28998852],\n",
       "       [  7.29042292],\n",
       "       [  7.29084015],\n",
       "       [  9.29127598],\n",
       "       [  9.29169369],\n",
       "       [ 10.29206848],\n",
       "       [ 10.29241085],\n",
       "       [ 13.29278946],\n",
       "       [ 14.29302979],\n",
       "       [ 14.29323864],\n",
       "       [ 15.29356861],\n",
       "       [ 16.29368973],\n",
       "       [ 16.29376411],\n",
       "       [ 17.73692703],\n",
       "       [ 17.74251556],\n",
       "       [ 17.74446678],\n",
       "       [ 15.74528217],\n",
       "       [ 14.74562263],\n",
       "       [ 13.74588871],\n",
       "       [ 13.74618721],\n",
       "       [ 13.74632072],\n",
       "       [ 12.74648285],\n",
       "       [ 11.74660015],\n",
       "       [ 11.7466898 ],\n",
       "       [  9.74690914],\n",
       "       [  8.74720478],\n",
       "       [  8.74742889],\n",
       "       [  7.74767971],\n",
       "       [  7.74778414],\n",
       "       [  8.74792004],\n",
       "       [  7.74802256],\n",
       "       [  7.7481122 ],\n",
       "       [  7.74815655],\n",
       "       [  6.74822903],\n",
       "       [  5.74833155],\n",
       "       [  5.74839115],\n",
       "       [  4.74843407],\n",
       "       [  4.74858284],\n",
       "       [  4.74865723],\n",
       "       [  5.74883842],\n",
       "       [  6.74903393],\n",
       "       [  7.7491703 ],\n",
       "       [  8.74927616],\n",
       "       [  8.74932098],\n",
       "       [  8.74950027],\n",
       "       [  7.74973631],\n",
       "       [  6.74988317],\n",
       "       [  5.75000048],\n",
       "       [  4.89224482],\n",
       "       [  4.89750481],\n",
       "       [  3.89918685],\n",
       "       [  2.89979577]], dtype=float32)"
      ]
     },
     "execution_count": 10,
     "metadata": {},
     "output_type": "execute_result"
    }
   ],
   "source": [
    "(np.array(dataNewNew.logitSeq[1100:1299])-np.array(dataNewNew.targetSeq[1100:1299]))*250\n"
   ]
  },
  {
   "cell_type": "code",
   "execution_count": 1,
   "metadata": {
    "collapsed": false
   },
   "outputs": [
    {
     "data": {
      "text/plain": [
       "1"
      ]
     },
     "execution_count": 1,
     "metadata": {},
     "output_type": "execute_result"
    }
   ],
   "source": [
    "int(1.99)"
   ]
  },
  {
   "cell_type": "code",
   "execution_count": 7,
   "metadata": {
    "collapsed": false
   },
   "outputs": [
    {
     "data": {
      "text/plain": [
       "array([ 0.5,  0.5,  0.5,  0.5])"
      ]
     },
     "execution_count": 7,
     "metadata": {},
     "output_type": "execute_result"
    }
   ],
   "source": [
    "test=np.array([[1,2,3,4],[2,3,4,5]])\n",
    "test.std(0)"
   ]
  },
  {
   "cell_type": "code",
   "execution_count": 6,
   "metadata": {
    "collapsed": false
   },
   "outputs": [
    {
     "data": {
      "text/plain": [
       "array([[1, 2, 3, 4],\n",
       "       [2, 3, 4, 5]])"
      ]
     },
     "execution_count": 6,
     "metadata": {},
     "output_type": "execute_result"
    }
   ],
   "source": [
    "test"
   ]
  },
  {
   "cell_type": "code",
   "execution_count": 43,
   "metadata": {
    "collapsed": false
   },
   "outputs": [
    {
     "data": {
      "image/png": "[encoded data removed]",
      "text/plain": [
       "<matplotlib.figure.Figure at 0x7f4fa1b8dc90>"
      ]
     },
     "metadata": {},
     "output_type": "display_data"
    }
   ],
   "source": [
    "#plotPerformance(dataNewNew)\n",
    "data=dataNewNew\n",
    "predictionsByWorkout, targetsByWorkout = transformData(data, scalingFactor=250)\n",
    "residuals = predictionsByWorkout-targetsByWorkout\n",
    "#Compute the means and standard deviations of the residuals\n",
    "means = residuals.mean(0)\n",
    "stds = residuals.std(0)\n",
    "indices=np.array(range(len(means)))\n",
    "#Plot the mean exercise sequence with error bars representing the standard deviation\n",
    "plt.figure()\n",
    "plt.errorbar(indices, means, yerr=stds)\n",
    "#plt.plot([1,2,3],[1,1,1])\n",
    "plt.show()"
   ]
  },
  {
   "cell_type": "code",
   "execution_count": 2,
   "metadata": {
    "collapsed": false
   },
   "outputs": [
    {
     "name": "stdout",
     "output_type": "stream",
     "text": [
      "Loading data file\n",
      "Data file loaded\n"
     ]
    }
   ],
   "source": [
    "#dataWithSport = loadData('logs/fullData/05_36PM_October_29_2016_epoch_39')\n",
    "#dataWithoutSport = loadData('logs/fullData/10_45PM_October_30_2016_epoch_39')\n",
    "#newFeedData=loadData('logs/fullData/12_16PM_November_02_2016_epoch_13')\n",
    "\n",
    "#MAE\n",
    "newFeedData=loadData('logs/fullData/05_21PM_November_08_2016_epoch_39')\n",
    "#newFeedData=loadData('logs/fullData/02_45PM_November_11_2016_epoch_28')#Broken large model\n",
    "\n",
    "#RMSE\n",
    "#newFeedData=loadData('logs/fullData/03_47PM_November_10_2016_epoch_15')\n",
    "#newFeedData=loadData('logs/fullData/02_14PM_November_12_2016_epoch_18')\n"
   ]
  },
  {
   "cell_type": "code",
   "execution_count": 79,
   "metadata": {
    "collapsed": false
   },
   "outputs": [
    {
     "data": {
      "image/png": "[encoded data removed]",
      "text/plain": [
       "<matplotlib.figure.Figure at 0x7f4f9930f5d0>"
      ]
     },
     "metadata": {},
     "output_type": "display_data"
    },
    {
     "data": {
      "image/png": "[encoded data removed]",
      "text/plain": [
       "<matplotlib.figure.Figure at 0x7f4f952e58d0>"
      ]
     },
     "metadata": {},
     "output_type": "display_data"
    }
   ],
   "source": [
    "plotPerformance(dataWithSport, plotTitle=\"Medium model with sport\")\n",
    "plotPerformance(dataWithoutSport, plotTitle=\"Medium model without sport\")"
   ]
  },
  {
   "cell_type": "code",
   "execution_count": 21,
   "metadata": {
    "collapsed": false
   },
   "outputs": [
    {
     "data": {
      "image/png": "[encoded data removed]",
      "text/plain": [
       "<matplotlib.figure.Figure at 0x7f283d258d50>"
      ]
     },
     "metadata": {},
     "output_type": "display_data"
    }
   ],
   "source": [
    "plotPerformance(newFeedData)"
   ]
  },
  {
   "cell_type": "code",
   "execution_count": null,
   "metadata": {
    "collapsed": false
   },
   "outputs": [
    {
     "data": {
      "image/png": "[encoded data removed]",
      "text/plain": [
       "<matplotlib.figure.Figure at 0x7f83dc277d90>"
      ]
     },
     "metadata": {},
     "output_type": "display_data"
    }
   ],
   "source": [
    "#plotPerformance(dataNewNew)\n",
    "data=newFeedData\n",
    "predictionsByWorkout, targetsByWorkout = transformData(data, sequenceLength=50, scalingFactor=250)\n",
    "#residuals = predictionsByWorkout-targetsByWorkout\n",
    "#Compute the means and standard deviations of the residuals\n",
    "\n",
    "subsetStart=200\n",
    "subsetEnd=201\n",
    "predictionsByWorkoutSubset=predictionsByWorkout[subsetStart:subsetEnd,:]\n",
    "targetsByWorkoutSubset=targetsByWorkout[subsetStart:subsetEnd,:]\n",
    "meansPred = predictionsByWorkoutSubset.mean(0)\n",
    "stdsPred = predictionsByWorkoutSubset.std(0)\n",
    "meansTar = targetsByWorkoutSubset.mean(0)\n",
    "stdsTar = targetsByWorkoutSubset.std(0)\n",
    "indices=np.array(range(len(meansTar)))\n",
    "#Plot the mean exercise sequence with error bars representing the standard deviation\n",
    "plt.figure(num=None, figsize=(15, 10), dpi=100, facecolor='w', edgecolor='k')\n",
    "\n",
    "plt.plot(indices, meansPred, 'r--', indices, meansTar, 'b--')\n",
    "#plt.title(\"Average predicted heart rates\")\n",
    "#plt.plot([1,2,3],[1,1,1])\n",
    "plt.show()\n",
    "\n",
    "#plt.figure()\n",
    "#plt.errorbar(indices, meansTar)\n",
    "#plt.title(\"Average target heart rates\")\n",
    "#plt.plot([1,2,3],[1,1,1])\n",
    "#plt.show()\n",
    "\n"
   ]
  },
  {
   "cell_type": "code",
   "execution_count": 6,
   "metadata": {
    "collapsed": false
   },
   "outputs": [
    {
     "name": "stdout",
     "output_type": "stream",
     "text": [
      "Model MAE: 18.7523\n",
      "Benchmark MAE: 19.1336\n",
      "Model RMSE: 25.0159\n",
      "Benchmark RMSE: 24.9553\n"
     ]
    }
   ],
   "source": [
    "print(\"Model MAE: \" + str(sampleModelPerformance(newFeedData, scalingFactor=250, errorType=\"MAE\")))\n",
    "print(\"Benchmark MAE: \" + str(sampleAverageBenchmark(newFeedData, scalingFactor=250, errorType=\"MAE\")))\n",
    "print(\"Model RMSE: \" + str(sampleModelPerformance(newFeedData, scalingFactor=250, errorType=\"RMSE\")))\n",
    "print(\"Benchmark RMSE: \" + str(sampleAverageBenchmark(newFeedData, scalingFactor=250, errorType=\"RMSE\")))"
   ]
  },
  {
   "cell_type": "code",
   "execution_count": 8,
   "metadata": {
    "collapsed": false
   },
   "outputs": [
    {
     "name": "stdout",
     "output_type": "stream",
     "text": [
      "Loading data file\n",
      "Data file loaded\n"
     ]
    }
   ],
   "source": [
    "LarryModelData=loadData('logs/fullData/04_17PM_November_17_2016_epoch_55')"
   ]
  },
  {
   "cell_type": "code",
   "execution_count": 9,
   "metadata": {
    "collapsed": false
   },
   "outputs": [
    {
     "name": "stdout",
     "output_type": "stream",
     "text": [
      "Model MAE: 18.9295\n",
      "Benchmark MAE: 18.3661\n",
      "Model RMSE: 25.6862\n",
      "Benchmark RMSE: 24.1778\n"
     ]
    }
   ],
   "source": [
    "print(\"Model MAE: \" + str(sampleModelPerformance(LarryModelData, scalingFactor=250, errorType=\"MAE\")))\n",
    "print(\"Benchmark MAE: \" + str(sampleAverageBenchmark(LarryModelData, scalingFactor=250, errorType=\"MAE\")))\n",
    "print(\"Model RMSE: \" + str(sampleModelPerformance(LarryModelData, scalingFactor=250, errorType=\"RMSE\")))\n",
    "print(\"Benchmark RMSE: \" + str(sampleAverageBenchmark(LarryModelData, scalingFactor=250, errorType=\"RMSE\")))"
   ]
  },
  {
   "cell_type": "code",
   "execution_count": 3,
   "metadata": {
    "collapsed": false
   },
   "outputs": [
    {
     "name": "stdout",
     "output_type": "stream",
     "text": [
      "Loading data file\n",
      "Data file loaded\n"
     ]
    }
   ],
   "source": [
    "#LarryModelData=loadData('logs/fullData/01_26PM_November_26_2016_epoch_28')\n",
    "LarryModelData=loadData('logs/fullData/12_26PM_November_27_2016_epoch_40')"
   ]
  },
  {
   "cell_type": "code",
   "execution_count": 3,
   "metadata": {
    "collapsed": false
   },
   "outputs": [
    {
     "name": "stdout",
     "output_type": "stream",
     "text": [
      "Model MAE: 1.17722\n",
      "Benchmark MAE: 1.1656\n",
      "Model RMSE: 1.48577\n",
      "Benchmark RMSE: 1.48136\n"
     ]
    }
   ],
   "source": [
    "print(\"Model MAE: \" + str(sampleModelPerformance(LarryModelData, errorType=\"MAE\")))\n",
    "print(\"Benchmark MAE: \" + str(sampleAverageBenchmark(LarryModelData, errorType=\"MAE\")))\n",
    "print(\"Model RMSE: \" + str(sampleModelPerformance(LarryModelData, errorType=\"RMSE\")))\n",
    "print(\"Benchmark RMSE: \" + str(sampleAverageBenchmark(LarryModelData, errorType=\"RMSE\")))"
   ]
  },
  {
   "cell_type": "code",
   "execution_count": null,
   "metadata": {
    "collapsed": true
   },
   "outputs": [],
   "source": [
    "Model MAE: 362.149\n",
    "Benchmark MAE: 318.537\n",
    "Model RMSE: 497.701\n",
    "Benchmark RMSE: 426.248\n",
    "   \n",
    "Epoch 21\n",
    "Model MAE: 317.967\n",
    "Benchmark MAE: 319.805\n",
    "Model RMSE: 423.195\n",
    "Benchmark RMSE: 422.326\n",
    "    \n",
    "Epoch 22\n",
    "Model MAE: 313.596\n",
    "Benchmark MAE: 310.068\n",
    "Model RMSE: 425.217\n",
    "Benchmark RMSE: 424.512\n",
    "    \n",
    "Epoch 28\n",
    "Model MAE: 311.746\n",
    "Benchmark MAE: 312.322\n",
    "Model RMSE: 458.138\n",
    "Benchmark RMSE: 450.739\n",
    "Model MAE: 1.24698\n",
    "Benchmark MAE: 1.24929\n",
    "Model RMSE: 1.83255\n",
    "Benchmark RMSE: 1.80296"
   ]
  },
  {
   "cell_type": "code",
   "execution_count": 2,
   "metadata": {
    "collapsed": false
   },
   "outputs": [
    {
     "name": "stdout",
     "output_type": "stream",
     "text": [
      "Loading data file\n",
      "Data file loaded\n"
     ]
    }
   ],
   "source": [
    "LarryModelData=loadData('logs/fullData/12_26PM_November_27_2016_epoch_47')"
   ]
  },
  {
   "cell_type": "code",
   "execution_count": null,
   "metadata": {
    "collapsed": true
   },
   "outputs": [],
   "source": [
    "Epoch 40\n",
    "Model MAE: 1.19907\n",
    "Benchmark MAE: 1.2051\n",
    "Model RMSE: 1.5646\n",
    "Benchmark RMSE: 1.54443\n",
    "    \n"
   ]
  },
  {
   "cell_type": "code",
   "execution_count": 21,
   "metadata": {
    "collapsed": false
   },
   "outputs": [
    {
     "name": "stdout",
     "output_type": "stream",
     "text": [
      "Loading data file\n",
      "Data file loaded\n"
     ]
    }
   ],
   "source": [
    "LarryModelData=loadData('logs/fullData/10_12PM_November_30_2016_epoch_7')"
   ]
  },
  {
   "cell_type": "code",
   "execution_count": 22,
   "metadata": {
    "collapsed": false
   },
   "outputs": [
    {
     "name": "stdout",
     "output_type": "stream",
     "text": [
      "Model MAE: 3.4595\n",
      "Benchmark MAE: 3.15916\n",
      "Model RMSE: 4.4717\n",
      "Benchmark RMSE: 4.25654\n"
     ]
    }
   ],
   "source": [
    "print(\"Model MAE: \" + str(sampleModelPerformance(LarryModelData, errorType=\"MAE\")))\n",
    "print(\"Benchmark MAE: \" + str(sampleAverageBenchmark(LarryModelData, errorType=\"MAE\")))\n",
    "print(\"Model RMSE: \" + str(sampleModelPerformance(LarryModelData, errorType=\"RMSE\")))\n",
    "print(\"Benchmark RMSE: \" + str(sampleAverageBenchmark(LarryModelData, errorType=\"RMSE\")))"
   ]
  },
  {
   "cell_type": "code",
   "execution_count": 16,
   "metadata": {
    "collapsed": false
   },
   "outputs": [
    {
     "name": "stdout",
     "output_type": "stream",
     "text": [
      "Loading data file\n",
      "Data file loaded\n"
     ]
    }
   ],
   "source": [
    "LarryModelData=loadData('logs/fullData/09_18PM_November_30_2016_epoch_23')"
   ]
  },
  {
   "cell_type": "code",
   "execution_count": 36,
   "metadata": {
    "collapsed": false
   },
   "outputs": [
    {
     "data": {
      "image/png": "[encoded data removed]",
      "text/plain": [
       "<matplotlib.figure.Figure at 0x7fe29f742850>"
      ]
     },
     "metadata": {},
     "output_type": "display_data"
    }
   ],
   "source": [
    "#plotPerformance(dataNewNew)\n",
    "data=LarryModelData\n",
    "predictionsByWorkout, targetsByWorkout = transformData(data, sequenceLength=50, scalingFactor=1)\n",
    "#residuals = predictionsByWorkout-targetsByWorkout\n",
    "#Compute the means and standard deviations of the residuals\n",
    "\n",
    "\n",
    "subsetStart=200\n",
    "subsetLength = 1\n",
    "\n",
    "subsetEnd=subsetStart + subsetLength\n",
    "predictionsByWorkoutSubset=predictionsByWorkout[subsetStart:subsetEnd,:]\n",
    "targetsByWorkoutSubset=targetsByWorkout[subsetStart:subsetEnd,:]\n",
    "meansPred = predictionsByWorkoutSubset.mean(0)\n",
    "stdsPred = predictionsByWorkoutSubset.std(0)\n",
    "meansTar = targetsByWorkoutSubset.mean(0)\n",
    "stdsTar = targetsByWorkoutSubset.std(0)\n",
    "indices=np.array(range(len(meansTar)))\n",
    "#Plot the mean exercise sequence with error bars representing the standard deviation\n",
    "plt.figure(num=None, figsize=(15, 10), dpi=100, facecolor='w', edgecolor='k')\n",
    "\n",
    "plt.plot(indices, meansPred, 'r--', indices, meansTar, 'b--')\n",
    "#plt.title(\"Average predicted heart rates\")\n",
    "#plt.plot([1,2,3],[1,1,1])\n",
    "plt.show()\n"
   ]
  },
  {
   "cell_type": "code",
   "execution_count": 24,
   "metadata": {
    "collapsed": false
   },
   "outputs": [
    {
     "name": "stdout",
     "output_type": "stream",
     "text": [
      "Model MAE: 3.4595\n",
      "Benchmark MAE: 3.15916\n",
      "Model RMSE: 4.4717\n",
      "Benchmark RMSE: 4.25654\n"
     ]
    }
   ],
   "source": [
    "print(\"Model MAE: \" + str(sampleModelPerformance(LarryModelData, errorType=\"MAE\")))\n",
    "print(\"Benchmark MAE: \" + str(sampleAverageBenchmark(LarryModelData, errorType=\"MAE\")))\n",
    "print(\"Model RMSE: \" + str(sampleModelPerformance(LarryModelData, errorType=\"RMSE\")))\n",
    "print(\"Benchmark RMSE: \" + str(sampleAverageBenchmark(LarryModelData, errorType=\"RMSE\")))"
   ]
  },
  {
   "cell_type": "code",
   "execution_count": 33,
   "metadata": {
    "collapsed": false
   },
   "outputs": [
    {
     "data": {
      "image/png": "[encoded data removed]",
      "text/plain": [
       "<matplotlib.figure.Figure at 0x7fe2ae985090>"
      ]
     },
     "metadata": {},
     "output_type": "display_data"
    }
   ],
   "source": [
    "plotPerformance(LarryModelData, scalingFactor=1)"
   ]
  },
  {
   "cell_type": "code",
   "execution_count": 26,
   "metadata": {
    "collapsed": false
   },
   "outputs": [
    {
     "data": {
      "text/plain": [
       "array([ 1.46589363,  1.46325123,  1.46526861,  1.46664631,  1.46601284,\n",
       "        1.46541405,  1.4650569 ,  1.46528339,  1.46563601,  1.46569252,\n",
       "        1.46555674,  1.46543443,  1.46543276,  1.4654994 ,  1.46553874,\n",
       "        1.46552765,  1.46550059,  1.46549046,  1.46549916,  1.46550846,\n",
       "        1.46550989,  1.46550536,  1.46550274,  1.46550369,  1.4655056 ,\n",
       "        2.43347263,  0.56486416,  1.89052033,  1.40763223,  1.41689944,\n",
       "        1.51326799,  1.43186188,  1.47367477,  1.47198617,  1.46327114,\n",
       "        1.46589363,  1.46325123,  1.46526861,  1.46664631,  1.46601284,\n",
       "        1.46541405,  1.4650569 ,  1.46528339,  1.46563601,  1.46569252,\n",
       "        1.46555674,  1.46543443,  1.46543276,  1.4654994 ,  1.46553874])"
      ]
     },
     "execution_count": 26,
     "metadata": {},
     "output_type": "execute_result"
    }
   ],
   "source": [
    "meansPred"
   ]
  },
  {
   "cell_type": "code",
   "execution_count": 30,
   "metadata": {
    "collapsed": false
   },
   "outputs": [
    {
     "data": {
      "text/plain": [
       "-10.762886047363281"
      ]
     },
     "execution_count": 30,
     "metadata": {},
     "output_type": "execute_result"
    }
   ],
   "source": [
    "np.min(targetsByWorkout)"
   ]
  },
  {
   "cell_type": "code",
   "execution_count": 66,
   "metadata": {
    "collapsed": false
   },
   "outputs": [
    {
     "name": "stdout",
     "output_type": "stream",
     "text": [
      "Loading data file\n",
      "Data file loaded\n"
     ]
    }
   ],
   "source": [
    "#LarryModelData=loadData('logs/fullData/01_30PM_January_18_2017_epoch_40')\n",
    "#Model MAE: 2.99278\n",
    "#Benchmark MAE: 3.0484\n",
    "#Model RMSE: 3.87497\n",
    "#Benchmark RMSE: 3.9492\n",
    "#LarryModelData=loadData('logs/fullData/02_04PM_January_18_2017_epoch_16')\n",
    "#Model MAE: 2.99331\n",
    "#Benchmark MAE: 3.06638\n",
    "#Model RMSE: 3.97121\n",
    "#Benchmark RMSE: 3.97466\n",
    "#LarryModelData=loadData('logs/fullData/02_04PM_January_18_2017_epoch_40')\n",
    "#Model MAE: 3.08451\n",
    "#Benchmark MAE: 3.14874\n",
    "#Model RMSE: 4.09246\n",
    "#Benchmark RMSE: 4.13213\n",
    "#LarryModelData=loadData('logs/fullData/04_57PM_January_22_2017_epoch_45')\n",
    "#Model MAE: 3.03515\n",
    "#Benchmark MAE: 3.25839\n",
    "#Model RMSE: 4.2909\n",
    "#Benchmark RMSE: 4.44407\n",
    "#LarryModelData=loadData('logs/fullData/08_26PM_January_22_2017_epoch_45')\n",
    "#Model MAE: 2.8392\n",
    "#Benchmark MAE: 2.96167\n",
    "#Model RMSE: 3.8342\n",
    "#Benchmark RMSE: 3.98606\n",
    "\n",
    "LarryModelData=loadData('logs/fullData/09_13PM_January_30_2017_epoch_56RMSE_noDI_newInpLog')\n",
    "#LarryModelData=loadData('logs/fullData/01_04AM_January_31_2017_epoch_56RMSE_noDI_noPath_newInpLog')"
   ]
  },
  {
   "cell_type": "code",
   "execution_count": 48,
   "metadata": {
    "collapsed": false
   },
   "outputs": [
    {
     "name": "stdout",
     "output_type": "stream",
     "text": [
      "Model MAE: 17.3568\n",
      "Benchmark MAE: 18.2087\n",
      "Model RMSE: 22.9508\n",
      "Benchmark RMSE: 23.7248\n",
      "MAE diff: -0.851885\n",
      "RMSE diff: -0.774055\n"
     ]
    },
    {
     "data": {
      "image/png": "[encoded data removed]",
      "text/plain": [
       "<matplotlib.figure.Figure at 0x7fb7a864cb90>"
      ]
     },
     "metadata": {},
     "output_type": "display_data"
    }
   ],
   "source": [
    "model_mae = sampleModelPerformance(LarryModelData, errorType=\"MAE\")\n",
    "print(\"Model MAE: \" + str(model_mae))\n",
    "bench_mae = sampleAverageBenchmark(LarryModelData, errorType=\"MAE\")\n",
    "print(\"Benchmark MAE: \" + str(bench_mae))\n",
    "model_rmse = sampleModelPerformance(LarryModelData, errorType=\"RMSE\")\n",
    "print(\"Model RMSE: \" + str(model_rmse))\n",
    "bench_rmse = sampleAverageBenchmark(LarryModelData, errorType=\"RMSE\")\n",
    "print(\"Benchmark RMSE: \" + str(bench_rmse))\n",
    "\n",
    "print(\"MAE diff: \" + str(model_mae-bench_mae))\n",
    "print(\"RMSE diff: \" + str(model_rmse-bench_rmse))\n",
    "plotPerformance(LarryModelData, plotTitle=\"\")"
   ]
  },
  {
   "cell_type": "code",
   "execution_count": 42,
   "metadata": {
    "collapsed": false
   },
   "outputs": [
    {
     "ename": "SyntaxError",
     "evalue": "invalid syntax (<ipython-input-42-e583b7407382>, line 26)",
     "output_type": "error",
     "traceback": [
      "\u001b[1;36m  File \u001b[1;32m\"<ipython-input-42-e583b7407382>\"\u001b[1;36m, line \u001b[1;32m26\u001b[0m\n\u001b[1;33m    plt.show()\u001b[0m\n\u001b[1;37m      ^\u001b[0m\n\u001b[1;31mSyntaxError\u001b[0m\u001b[1;31m:\u001b[0m invalid syntax\n"
     ]
    }
   ],
   "source": [
    "#plotPerformance(dataNewNew)\n",
    "data=LarryModelData\n",
    "predictionsByWorkout, targetsByWorkout = transformData(data, sequenceLength=500)\n",
    "#residuals = predictionsByWorkout-targetsByWorkout\n",
    "#Compute the means and standard deviations of the residuals\n",
    "\n",
    "\n",
    "subsetStart=301\n",
    "subsetLength = 1\n",
    "\n",
    "subsetEnd=subsetStart + subsetLength\n",
    "predictionsByWorkoutSubset=predictionsByWorkout[subsetStart:subsetEnd,:]\n",
    "targetsByWorkoutSubset=targetsByWorkout[subsetStart:subsetEnd,:]\n",
    "meansPred = predictionsByWorkoutSubset.mean(0)\n",
    "stdsPred = predictionsByWorkoutSubset.std(0)\n",
    "meansTar = targetsByWorkoutSubset.mean(0)\n",
    "stdsTar = targetsByWorkoutSubset.std(0)\n",
    "indices=np.array(range(len(meansTar)))\n",
    "#Plot the mean exercise sequence with error bars representing the standard deviation\n",
    "plt.figure(num=None, figsize=(15, 10), dpi=100, facecolor='w', edgecolor='k')\n",
    "\n",
    "plt.plot(indices, meansPred, 'r--', indices, meansTar, 'b--')\n",
    "#plt.title(\"Average predicted heart rates\")\n",
    "plt.title(data[url][subsetStart,0]\n",
    "#plt.plot([1,2,3],[1,1,1])\n",
    "plt.show()\n"
   ]
  },
  {
   "cell_type": "code",
   "execution_count": 78,
   "metadata": {
    "collapsed": false
   },
   "outputs": [
    {
     "name": "stdout",
     "output_type": "stream",
     "text": [
      "['new_workout', 'gender', 'sport', 'userId', 'altitude', 'distance', 'derived_speed', 'time_elapsed']\n"
     ]
    },
    {
     "data": {
      "text/plain": [
       "[-0.22385728,\n",
       " 'male',\n",
       " 'run',\n",
       " 3575734,\n",
       " -0.0039260429,\n",
       " -0.0072798198,\n",
       " -0.011107814,\n",
       " -0.034275606]"
      ]
     },
     "execution_count": 78,
     "metadata": {},
     "output_type": "execute_result"
    }
   ],
   "source": [
    "inputOrderSeq = [x for x in LarryModelData.endoFeatures if x!= LarryModelData.targetAtt]\n",
    "print(inputOrderSeq)\n",
    "LarryModelData.inputSeq[0]"
   ]
  },
  {
   "cell_type": "code",
   "execution_count": 77,
   "metadata": {
    "collapsed": false
   },
   "outputs": [
    {
     "name": "stdout",
     "output_type": "stream",
     "text": [
      "Loading metadata\n",
      "Metadata loaded\n"
     ]
    }
   ],
   "source": [
    "predictionsByWorkout, targetsByWorkout, inputAttsByWorkout = transformData(LarryModelData, sequenceLength=500, unZscore = True, useInputs=True)"
   ]
  },
  {
   "cell_type": "code",
   "execution_count": 79,
   "metadata": {
    "collapsed": false
   },
   "outputs": [
    {
     "data": {
      "text/plain": [
       "500"
      ]
     },
     "execution_count": 79,
     "metadata": {},
     "output_type": "execute_result"
    }
   ],
   "source": [
    "len(inputAttsByWorkout[\"derived_speed\"][0])"
   ]
  },
  {
   "cell_type": "code",
   "execution_count": 86,
   "metadata": {
    "collapsed": false
   },
   "outputs": [
    {
     "name": "stdout",
     "output_type": "stream",
     "text": [
      "Loading metadata\n",
      "Metadata loaded\n"
     ]
    },
    {
     "ename": "ValueError",
     "evalue": "Cannot set a frame with no defined index and a value that cannot be converted to a Series",
     "output_type": "error",
     "traceback": [
      "\u001b[1;31m---------------------------------------------------------------------------\u001b[0m",
      "\u001b[1;31mValueError\u001b[0m                                Traceback (most recent call last)",
      "\u001b[1;32m<ipython-input-86-ca101f7ad28e>\u001b[0m in \u001b[0;36m<module>\u001b[1;34m()\u001b[0m\n\u001b[1;32m----> 1\u001b[1;33m \u001b[0mdf\u001b[0m \u001b[1;33m=\u001b[0m \u001b[0mbuildDataFrame\u001b[0m\u001b[1;33m(\u001b[0m\u001b[0mLarryModelData\u001b[0m\u001b[1;33m)\u001b[0m\u001b[1;33m\u001b[0m\u001b[0m\n\u001b[0m",
      "\u001b[1;32m<ipython-input-85-468f50ac0563>\u001b[0m in \u001b[0;36mbuildDataFrame\u001b[1;34m(data, unZscore, useInputs)\u001b[0m\n\u001b[0;32m    140\u001b[0m     \u001b[0mcolumns\u001b[0m\u001b[1;33m.\u001b[0m\u001b[0mextend\u001b[0m\u001b[1;33m(\u001b[0m\u001b[0minputOrderSeq\u001b[0m\u001b[1;33m)\u001b[0m\u001b[1;33m\u001b[0m\u001b[0m\n\u001b[0;32m    141\u001b[0m     \u001b[0mdf\u001b[0m \u001b[1;33m=\u001b[0m \u001b[0mpd\u001b[0m\u001b[1;33m.\u001b[0m\u001b[0mDataFrame\u001b[0m\u001b[1;33m(\u001b[0m\u001b[0mcolumns\u001b[0m\u001b[1;33m=\u001b[0m\u001b[0mcolumns\u001b[0m\u001b[1;33m,\u001b[0m \u001b[0mdtype\u001b[0m\u001b[1;33m=\u001b[0m\u001b[1;34m'object'\u001b[0m\u001b[1;33m)\u001b[0m\u001b[1;33m\u001b[0m\u001b[0m\n\u001b[1;32m--> 142\u001b[1;33m     \u001b[0mdf\u001b[0m\u001b[1;33m[\u001b[0m\u001b[1;34m'Targets'\u001b[0m\u001b[1;33m]\u001b[0m \u001b[1;33m=\u001b[0m \u001b[0mtargetsByWorkout\u001b[0m\u001b[1;33m\u001b[0m\u001b[0m\n\u001b[0m\u001b[0;32m    143\u001b[0m     \u001b[0mdf\u001b[0m\u001b[1;33m[\u001b[0m\u001b[1;34m'Predictions'\u001b[0m\u001b[1;33m]\u001b[0m \u001b[1;33m=\u001b[0m \u001b[0mpredictionsByWorkout\u001b[0m\u001b[1;33m\u001b[0m\u001b[0m\n\u001b[0;32m    144\u001b[0m \u001b[1;33m\u001b[0m\u001b[0m\n",
      "\u001b[1;32m/usr/local/lib/python2.7/dist-packages/pandas/core/frame.pyc\u001b[0m in \u001b[0;36m__setitem__\u001b[1;34m(self, key, value)\u001b[0m\n\u001b[0;32m   2355\u001b[0m         \u001b[1;32melse\u001b[0m\u001b[1;33m:\u001b[0m\u001b[1;33m\u001b[0m\u001b[0m\n\u001b[0;32m   2356\u001b[0m             \u001b[1;31m# set column\u001b[0m\u001b[1;33m\u001b[0m\u001b[1;33m\u001b[0m\u001b[0m\n\u001b[1;32m-> 2357\u001b[1;33m             \u001b[0mself\u001b[0m\u001b[1;33m.\u001b[0m\u001b[0m_set_item\u001b[0m\u001b[1;33m(\u001b[0m\u001b[0mkey\u001b[0m\u001b[1;33m,\u001b[0m \u001b[0mvalue\u001b[0m\u001b[1;33m)\u001b[0m\u001b[1;33m\u001b[0m\u001b[0m\n\u001b[0m\u001b[0;32m   2358\u001b[0m \u001b[1;33m\u001b[0m\u001b[0m\n\u001b[0;32m   2359\u001b[0m     \u001b[1;32mdef\u001b[0m \u001b[0m_setitem_slice\u001b[0m\u001b[1;33m(\u001b[0m\u001b[0mself\u001b[0m\u001b[1;33m,\u001b[0m \u001b[0mkey\u001b[0m\u001b[1;33m,\u001b[0m \u001b[0mvalue\u001b[0m\u001b[1;33m)\u001b[0m\u001b[1;33m:\u001b[0m\u001b[1;33m\u001b[0m\u001b[0m\n",
      "\u001b[1;32m/usr/local/lib/python2.7/dist-packages/pandas/core/frame.pyc\u001b[0m in \u001b[0;36m_set_item\u001b[1;34m(self, key, value)\u001b[0m\n\u001b[0;32m   2420\u001b[0m         \"\"\"\n\u001b[0;32m   2421\u001b[0m \u001b[1;33m\u001b[0m\u001b[0m\n\u001b[1;32m-> 2422\u001b[1;33m         \u001b[0mself\u001b[0m\u001b[1;33m.\u001b[0m\u001b[0m_ensure_valid_index\u001b[0m\u001b[1;33m(\u001b[0m\u001b[0mvalue\u001b[0m\u001b[1;33m)\u001b[0m\u001b[1;33m\u001b[0m\u001b[0m\n\u001b[0m\u001b[0;32m   2423\u001b[0m         \u001b[0mvalue\u001b[0m \u001b[1;33m=\u001b[0m \u001b[0mself\u001b[0m\u001b[1;33m.\u001b[0m\u001b[0m_sanitize_column\u001b[0m\u001b[1;33m(\u001b[0m\u001b[0mkey\u001b[0m\u001b[1;33m,\u001b[0m \u001b[0mvalue\u001b[0m\u001b[1;33m)\u001b[0m\u001b[1;33m\u001b[0m\u001b[0m\n\u001b[0;32m   2424\u001b[0m         \u001b[0mNDFrame\u001b[0m\u001b[1;33m.\u001b[0m\u001b[0m_set_item\u001b[0m\u001b[1;33m(\u001b[0m\u001b[0mself\u001b[0m\u001b[1;33m,\u001b[0m \u001b[0mkey\u001b[0m\u001b[1;33m,\u001b[0m \u001b[0mvalue\u001b[0m\u001b[1;33m)\u001b[0m\u001b[1;33m\u001b[0m\u001b[0m\n",
      "\u001b[1;32m/usr/local/lib/python2.7/dist-packages/pandas/core/frame.pyc\u001b[0m in \u001b[0;36m_ensure_valid_index\u001b[1;34m(self, value)\u001b[0m\n\u001b[0;32m   2402\u001b[0m                 \u001b[0mvalue\u001b[0m \u001b[1;33m=\u001b[0m \u001b[0mSeries\u001b[0m\u001b[1;33m(\u001b[0m\u001b[0mvalue\u001b[0m\u001b[1;33m)\u001b[0m\u001b[1;33m\u001b[0m\u001b[0m\n\u001b[0;32m   2403\u001b[0m             \u001b[1;32mexcept\u001b[0m\u001b[1;33m:\u001b[0m\u001b[1;33m\u001b[0m\u001b[0m\n\u001b[1;32m-> 2404\u001b[1;33m                 raise ValueError('Cannot set a frame with no defined index '\n\u001b[0m\u001b[0;32m   2405\u001b[0m                                  \u001b[1;34m'and a value that cannot be converted to a '\u001b[0m\u001b[1;33m\u001b[0m\u001b[0m\n\u001b[0;32m   2406\u001b[0m                                  'Series')\n",
      "\u001b[1;31mValueError\u001b[0m: Cannot set a frame with no defined index and a value that cannot be converted to a Series"
     ]
    }
   ],
   "source": [
    "df = buildDataFrame(LarryModelData)"
   ]
  },
  {
   "cell_type": "code",
   "execution_count": null,
   "metadata": {
    "collapsed": true
   },
   "outputs": [],
   "source": []
  }
 ],
 "metadata": {
  "kernelspec": {
   "display_name": "Python 2",
   "language": "python",
   "name": "python2"
  },
  "language_info": {
   "codemirror_mode": {
    "name": "ipython",
    "version": 2
   },
   "file_extension": ".py",
   "mimetype": "text/x-python",
   "name": "python",
   "nbconvert_exporter": "python",
   "pygments_lexer": "ipython2",
   "version": "2.7.6"
  }
 },
 "nbformat": 4,
 "nbformat_minor": 0
}
