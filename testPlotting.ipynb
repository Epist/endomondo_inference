{
 "cells": [
  {
   "cell_type": "code",
   "execution_count": 63,
   "metadata": {
    "collapsed": false
   },
   "outputs": [],
   "source": [
    "%matplotlib inline\n",
    "import matplotlib\n",
    "import matplotlib.pyplot as plt\n",
    "import pickle\n",
    "import numpy as np\n",
    "\n",
    "def loadData(fileName):\n",
    "    print(\"Loading data file\")\n",
    "    with open(fileName, \"rb\") as f:\n",
    "        data = pickle.load(f)\n",
    "    #except:\n",
    "    #    raise(IOError(\"Data file: \" + fileName + \" not in valid pickle format\"))\n",
    "    print(\"Data file loaded\")\n",
    "    return data\n",
    "        \n",
    "            \n",
    "class dataEpoch(object):\n",
    "    def __init__(self, targetSeq, logitSeq, epochNum):\n",
    "        self.targetSeq = targetSeq\n",
    "        self.logitSeq = logitSeq\n",
    "        self.epochNum = epochNum\n",
    "        self.endoFeatures = endoFeatures\n",
    "        self.targetAtt = targetAtt\n",
    "        self.modelType = model\n",
    "        self.lossType = lossType\n",
    "        self.trainValTestSplit = trainValTestSplit\n",
    "        self.modelRunIdentifier = modelRunIdentifier\n",
    "        \n",
    "def transformData(data, sequenceLength=500, scalingFactor=1):\n",
    "    predictionsList = data.logitSeq\n",
    "    targetsList = data.targetSeq\n",
    "    \n",
    "    numRows = int(len(predictionsList)/500)\n",
    "    predictionsByWorkout = np.zeros((numRows, sequenceLength))\n",
    "    targetsByWorkout = np.zeros((numRows, sequenceLength))\n",
    "    #Now transform the lists into n x 500 arrays\n",
    "    for i in range(numRows):\n",
    "        predictionsByWorkout[i,:] = predictionsList[i*sequenceLength : (i+1)*sequenceLength]\n",
    "        targetsByWorkout[i,:] = targetsList[i*sequenceLength : (i+1)*sequenceLength]\n",
    "    \n",
    "    return (predictionsByWorkout*scalingFactor, targetsByWorkout*scalingFactor)\n",
    "\n",
    "def plotPerformance(data, plotTitle=None, plotErrorBars=False):\n",
    "    predictionsByWorkout, targetsByWorkout = transformData(data, scalingFactor=250)\n",
    "    residuals = predictionsByWorkout-targetsByWorkout\n",
    "    #Compute the means and standard deviations of the residuals\n",
    "    means = residuals.mean(0)\n",
    "    stds = residuals.std(0)\n",
    "    indices=np.array(range(len(means)))\n",
    "    #Plot the mean exercise sequence with error bars representing the standard deviation\n",
    "    fig = plt.figure()\n",
    "    if plotErrorBars:\n",
    "        plt.errorbar(indices, means, yerr=stds)\n",
    "    else:\n",
    "        plt.plot(indices, means)\n",
    "        \n",
    "    #Label the plot with the epoch number, the model type, the error measure, and the data variables\n",
    "    if plotTitle is None:\n",
    "        mt = data.modelType\n",
    "        lt = data.lossType\n",
    "        ef = str(data.endoFeatures)\n",
    "        en = str(data.epochNum)\n",
    "        plt.title(mt + \", \" + lt + \", \" + ef + \", epoch:\" + en)\n",
    "    else:\n",
    "        plt.title(plotTitle)\n",
    "    MAE=np.mean(abs(means))\n",
    "    fig.suptitle(\"Mean absolute error: \" + str(MAE))\n",
    "    plt.show()\n"
   ]
  },
  {
   "cell_type": "code",
   "execution_count": 2,
   "metadata": {
    "collapsed": false
   },
   "outputs": [
    {
     "name": "stdout",
     "output_type": "stream",
     "text": [
      "Loading data file\n",
      "Data file loaded\n"
     ]
    }
   ],
   "source": [
    "#data = loadData('logs/fullData/12_30PM_October_26_2016_epoch_10')\n",
    "data = loadData('logs/fullData/03_36PM_October_26_2016_epoch_10')"
   ]
  },
  {
   "cell_type": "code",
   "execution_count": 16,
   "metadata": {
    "collapsed": false
   },
   "outputs": [
    {
     "ename": "NameError",
     "evalue": "global name 'dataByWorkout' is not defined",
     "output_type": "error",
     "traceback": [
      "\u001b[1;31m---------------------------------------------------------------------------\u001b[0m",
      "\u001b[1;31mNameError\u001b[0m                                 Traceback (most recent call last)",
      "\u001b[1;32m<ipython-input-16-e886effa3536>\u001b[0m in \u001b[0;36m<module>\u001b[1;34m()\u001b[0m\n\u001b[1;32m----> 1\u001b[1;33m \u001b[0mdataByWorkout\u001b[0m\u001b[1;33m=\u001b[0m\u001b[0mtransformData\u001b[0m\u001b[1;33m(\u001b[0m\u001b[0mdata\u001b[0m\u001b[1;33m)\u001b[0m\u001b[1;33m\u001b[0m\u001b[0m\n\u001b[0m",
      "\u001b[1;32m<ipython-input-14-5f6818e118f7>\u001b[0m in \u001b[0;36mtransformData\u001b[1;34m(data)\u001b[0m\n\u001b[0;32m     29\u001b[0m \u001b[1;33m\u001b[0m\u001b[0m\n\u001b[0;32m     30\u001b[0m     \u001b[1;31m#Now transform the lists into n x 500 arrays\u001b[0m\u001b[1;33m\u001b[0m\u001b[1;33m\u001b[0m\u001b[0m\n\u001b[1;32m---> 31\u001b[1;33m     \u001b[0mdataByWorkout\u001b[0m\u001b[1;33m\u001b[0m\u001b[0m\n\u001b[0m\u001b[0;32m     32\u001b[0m \u001b[1;33m\u001b[0m\u001b[0m\n\u001b[0;32m     33\u001b[0m     \u001b[1;32mreturn\u001b[0m \u001b[0mdataByWorkout\u001b[0m\u001b[1;33m\u001b[0m\u001b[0m\n",
      "\u001b[1;31mNameError\u001b[0m: global name 'dataByWorkout' is not defined"
     ]
    }
   ],
   "source": [
    "dataByWorkout=transformData(data)"
   ]
  },
  {
   "cell_type": "code",
   "execution_count": 49,
   "metadata": {
    "collapsed": false
   },
   "outputs": [
    {
     "data": {
      "text/plain": [
       "(506, 500, 1)"
      ]
     },
     "execution_count": 49,
     "metadata": {},
     "output_type": "execute_result"
    }
   ],
   "source": [
    "np.shape(data.targetSeq)"
   ]
  },
  {
   "cell_type": "code",
   "execution_count": 50,
   "metadata": {
    "collapsed": false
   },
   "outputs": [
    {
     "data": {
      "text/plain": [
       "(253000, 1)"
      ]
     },
     "execution_count": 50,
     "metadata": {},
     "output_type": "execute_result"
    }
   ],
   "source": [
    "np.shape(data.logitSeq)"
   ]
  },
  {
   "cell_type": "code",
   "execution_count": 48,
   "metadata": {
    "collapsed": false
   },
   "outputs": [
    {
     "data": {
      "text/plain": [
       "(12650, 20, 1160)"
      ]
     },
     "execution_count": 48,
     "metadata": {},
     "output_type": "execute_result"
    }
   ],
   "source": [
    "np.shape(data.inputSeq)"
   ]
  },
  {
   "cell_type": "code",
   "execution_count": 26,
   "metadata": {
    "collapsed": false
   },
   "outputs": [
    {
     "name": "stdout",
     "output_type": "stream",
     "text": [
      "Loading data file\n",
      "Data file loaded\n"
     ]
    }
   ],
   "source": [
    "dataNew = loadData('logs/fullData/02_05PM_October_29_2016_epoch_1')"
   ]
  },
  {
   "cell_type": "code",
   "execution_count": 45,
   "metadata": {
    "collapsed": false
   },
   "outputs": [
    {
     "data": {
      "text/plain": [
       "(506, 500, 1)"
      ]
     },
     "execution_count": 45,
     "metadata": {},
     "output_type": "execute_result"
    }
   ],
   "source": [
    "np.shape(dataNew.targetSeq)"
   ]
  },
  {
   "cell_type": "code",
   "execution_count": 28,
   "metadata": {
    "collapsed": false
   },
   "outputs": [
    {
     "data": {
      "text/plain": [
       "array([ 17.69545364], dtype=float32)"
      ]
     },
     "execution_count": 28,
     "metadata": {},
     "output_type": "execute_result"
    }
   ],
   "source": [
    "dataNew.logitSeq[0][0:2]"
   ]
  },
  {
   "cell_type": "code",
   "execution_count": 46,
   "metadata": {
    "collapsed": false
   },
   "outputs": [
    {
     "data": {
      "text/plain": [
       "(12650, 20, 200)"
      ]
     },
     "execution_count": 46,
     "metadata": {},
     "output_type": "execute_result"
    }
   ],
   "source": [
    "np.shape(dataNew.outputsSeq)"
   ]
  },
  {
   "cell_type": "code",
   "execution_count": 47,
   "metadata": {
    "collapsed": false
   },
   "outputs": [
    {
     "data": {
      "text/plain": [
       "(253000, 200)"
      ]
     },
     "execution_count": 47,
     "metadata": {},
     "output_type": "execute_result"
    }
   ],
   "source": [
    "np.shape(dataNew.outputSeq)"
   ]
  },
  {
   "cell_type": "code",
   "execution_count": 2,
   "metadata": {
    "collapsed": true
   },
   "outputs": [],
   "source": [
    "import numpy as np"
   ]
  },
  {
   "cell_type": "code",
   "execution_count": 51,
   "metadata": {
    "collapsed": false
   },
   "outputs": [
    {
     "data": {
      "text/plain": [
       "253000"
      ]
     },
     "execution_count": 51,
     "metadata": {},
     "output_type": "execute_result"
    }
   ],
   "source": [
    "12650*20"
   ]
  },
  {
   "cell_type": "code",
   "execution_count": 52,
   "metadata": {
    "collapsed": false
   },
   "outputs": [
    {
     "data": {
      "text/plain": [
       "253000"
      ]
     },
     "execution_count": 52,
     "metadata": {},
     "output_type": "execute_result"
    }
   ],
   "source": [
    "506*500"
   ]
  },
  {
   "cell_type": "code",
   "execution_count": 9,
   "metadata": {
    "collapsed": false
   },
   "outputs": [
    {
     "name": "stdout",
     "output_type": "stream",
     "text": [
      "Loading data file\n",
      "Data file loaded\n"
     ]
    }
   ],
   "source": [
    "#dataNewNew = loadData('logs/fullData/02_50PM_October_29_2016_epoch_4')\n",
    "#dataNewNew = loadData('logs/fullData/03_03PM_October_29_2016_epoch_10')\n",
    "#dataNewNew = loadData('logs/fullData/03_39PM_October_29_2016_epoch_14')\n",
    "#dataNewNew = loadData('logs/fullData/03_39PM_October_29_2016_epoch_39')\n",
    "dataNewNew = loadData('logs/fullData/05_36PM_October_29_2016_epoch_39')"
   ]
  },
  {
   "cell_type": "code",
   "execution_count": 6,
   "metadata": {
    "collapsed": false
   },
   "outputs": [
    {
     "name": "stdout",
     "output_type": "stream",
     "text": [
      "Target shape: (252700, 1)\n",
      "Logit shape: (252700, 1)\n"
     ]
    }
   ],
   "source": [
    "print(\"Target shape: \" + str(np.shape(dataNewNew.targetSeq)))\n",
    "print(\"Logit shape: \" + str(np.shape(dataNewNew.logitSeq)))"
   ]
  },
  {
   "cell_type": "code",
   "execution_count": 7,
   "metadata": {
    "collapsed": false
   },
   "outputs": [
    {
     "data": {
      "text/plain": [
       "[array([ 0.25600001], dtype=float32),\n",
       " array([ 0.28], dtype=float32),\n",
       " array([ 0.28], dtype=float32),\n",
       " array([ 0.28400001], dtype=float32),\n",
       " array([ 0.26800001], dtype=float32),\n",
       " array([ 0.26800001], dtype=float32),\n",
       " array([ 0.31600001], dtype=float32),\n",
       " array([ 0.37200001], dtype=float32),\n",
       " array([ 0.38800001], dtype=float32),\n",
       " array([ 0.412], dtype=float32),\n",
       " array([ 0.43200001], dtype=float32),\n",
       " array([ 0.44800001], dtype=float32),\n",
       " array([ 0.456], dtype=float32),\n",
       " array([ 0.46799999], dtype=float32),\n",
       " array([ 0.46799999], dtype=float32),\n",
       " array([ 0.46799999], dtype=float32),\n",
       " array([ 0.472], dtype=float32),\n",
       " array([ 0.47600001], dtype=float32),\n",
       " array([ 0.484], dtype=float32),\n",
       " array([ 0.48800001], dtype=float32),\n",
       " array([ 0.50400001], dtype=float32),\n",
       " array([ 0.51999998], dtype=float32),\n",
       " array([ 0.53200001], dtype=float32),\n",
       " array([ 0.54400003], dtype=float32),\n",
       " array([ 0.54400003], dtype=float32),\n",
       " array([ 0.54000002], dtype=float32),\n",
       " array([ 0.53600001], dtype=float32),\n",
       " array([ 0.53600001], dtype=float32),\n",
       " array([ 0.53200001], dtype=float32),\n",
       " array([ 0.53200001], dtype=float32),\n",
       " array([ 0.53200001], dtype=float32),\n",
       " array([ 0.53200001], dtype=float32),\n",
       " array([ 0.53200001], dtype=float32),\n",
       " array([ 0.528], dtype=float32),\n",
       " array([ 0.52399999], dtype=float32),\n",
       " array([ 0.52399999], dtype=float32),\n",
       " array([ 0.51999998], dtype=float32),\n",
       " array([ 0.51200002], dtype=float32),\n",
       " array([ 0.50400001], dtype=float32),\n",
       " array([ 0.50800002], dtype=float32),\n",
       " array([ 0.51200002], dtype=float32),\n",
       " array([ 0.51200002], dtype=float32),\n",
       " array([ 0.51200002], dtype=float32),\n",
       " array([ 0.51200002], dtype=float32),\n",
       " array([ 0.51599997], dtype=float32),\n",
       " array([ 0.51599997], dtype=float32),\n",
       " array([ 0.51599997], dtype=float32),\n",
       " array([ 0.51999998], dtype=float32),\n",
       " array([ 0.528], dtype=float32),\n",
       " array([ 0.53200001], dtype=float32),\n",
       " array([ 0.528], dtype=float32),\n",
       " array([ 0.51999998], dtype=float32),\n",
       " array([ 0.51999998], dtype=float32),\n",
       " array([ 0.51999998], dtype=float32),\n",
       " array([ 0.53200001], dtype=float32),\n",
       " array([ 0.55199999], dtype=float32),\n",
       " array([ 0.56400001], dtype=float32),\n",
       " array([ 0.56], dtype=float32),\n",
       " array([ 0.56400001], dtype=float32),\n",
       " array([ 0.56400001], dtype=float32),\n",
       " array([ 0.56800002], dtype=float32),\n",
       " array([ 0.56800002], dtype=float32),\n",
       " array([ 0.56400001], dtype=float32),\n",
       " array([ 0.56], dtype=float32),\n",
       " array([ 0.55199999], dtype=float32),\n",
       " array([ 0.54799998], dtype=float32),\n",
       " array([ 0.53200001], dtype=float32),\n",
       " array([ 0.51999998], dtype=float32),\n",
       " array([ 0.52399999], dtype=float32),\n",
       " array([ 0.52399999], dtype=float32),\n",
       " array([ 0.52399999], dtype=float32),\n",
       " array([ 0.51599997], dtype=float32),\n",
       " array([ 0.50400001], dtype=float32),\n",
       " array([ 0.5], dtype=float32),\n",
       " array([ 0.5], dtype=float32),\n",
       " array([ 0.50400001], dtype=float32),\n",
       " array([ 0.51200002], dtype=float32),\n",
       " array([ 0.52399999], dtype=float32),\n",
       " array([ 0.54799998], dtype=float32),\n",
       " array([ 0.56], dtype=float32),\n",
       " array([ 0.56], dtype=float32),\n",
       " array([ 0.56400001], dtype=float32),\n",
       " array([ 0.55599999], dtype=float32),\n",
       " array([ 0.56], dtype=float32),\n",
       " array([ 0.56], dtype=float32),\n",
       " array([ 0.56800002], dtype=float32),\n",
       " array([ 0.57200003], dtype=float32),\n",
       " array([ 0.57599998], dtype=float32),\n",
       " array([ 0.57599998], dtype=float32),\n",
       " array([ 0.57999998], dtype=float32),\n",
       " array([ 0.58399999], dtype=float32),\n",
       " array([ 0.58399999], dtype=float32),\n",
       " array([ 0.58399999], dtype=float32),\n",
       " array([ 0.57599998], dtype=float32),\n",
       " array([ 0.57200003], dtype=float32),\n",
       " array([ 0.57200003], dtype=float32),\n",
       " array([ 0.57200003], dtype=float32),\n",
       " array([ 0.57200003], dtype=float32),\n",
       " array([ 0.57599998], dtype=float32)]"
      ]
     },
     "execution_count": 7,
     "metadata": {},
     "output_type": "execute_result"
    }
   ],
   "source": [
    "dataNewNew.targetSeq[0:99]"
   ]
  },
  {
   "cell_type": "code",
   "execution_count": 8,
   "metadata": {
    "collapsed": false
   },
   "outputs": [
    {
     "data": {
      "text/plain": [
       "[array([ 0.58337796], dtype=float32),\n",
       " array([ 0.53646022], dtype=float32),\n",
       " array([ 0.52995723], dtype=float32),\n",
       " array([ 0.53987437], dtype=float32),\n",
       " array([ 0.55160999], dtype=float32),\n",
       " array([ 0.56161928], dtype=float32),\n",
       " array([ 0.56797957], dtype=float32),\n",
       " array([ 0.57226861], dtype=float32),\n",
       " array([ 0.57514852], dtype=float32),\n",
       " array([ 0.57728016], dtype=float32),\n",
       " array([ 0.57867318], dtype=float32),\n",
       " array([ 0.57969999], dtype=float32),\n",
       " array([ 0.58051699], dtype=float32),\n",
       " array([ 0.58128715], dtype=float32),\n",
       " array([ 0.58183837], dtype=float32),\n",
       " array([ 0.58222926], dtype=float32),\n",
       " array([ 0.58249503], dtype=float32),\n",
       " array([ 0.5827018], dtype=float32),\n",
       " array([ 0.58282876], dtype=float32),\n",
       " array([ 0.58291495], dtype=float32),\n",
       " array([ 0.58297545], dtype=float32),\n",
       " array([ 0.58302152], dtype=float32),\n",
       " array([ 0.58305109], dtype=float32),\n",
       " array([ 0.58307028], dtype=float32),\n",
       " array([ 0.58308214], dtype=float32),\n",
       " array([ 0.58308893], dtype=float32),\n",
       " array([ 0.58309144], dtype=float32),\n",
       " array([ 0.58309108], dtype=float32),\n",
       " array([ 0.5830887], dtype=float32),\n",
       " array([ 0.58308458], dtype=float32),\n",
       " array([ 0.58308011], dtype=float32),\n",
       " array([ 0.58307534], dtype=float32),\n",
       " array([ 0.58307046], dtype=float32),\n",
       " array([ 0.58306503], dtype=float32),\n",
       " array([ 0.58306032], dtype=float32),\n",
       " array([ 0.58793867], dtype=float32),\n",
       " array([ 0.58762372], dtype=float32),\n",
       " array([ 0.58752882], dtype=float32),\n",
       " array([ 0.58747989], dtype=float32),\n",
       " array([ 0.58745164], dtype=float32),\n",
       " array([ 0.58743286], dtype=float32),\n",
       " array([ 0.58741826], dtype=float32),\n",
       " array([ 0.58740586], dtype=float32),\n",
       " array([ 0.58739483], dtype=float32),\n",
       " array([ 0.58738494], dtype=float32),\n",
       " array([ 0.58737618], dtype=float32),\n",
       " array([ 0.58736849], dtype=float32),\n",
       " array([ 0.58736175], dtype=float32),\n",
       " array([ 0.58735579], dtype=float32),\n",
       " array([ 0.58735085], dtype=float32),\n",
       " array([ 0.58734655], dtype=float32),\n",
       " array([ 0.58734286], dtype=float32),\n",
       " array([ 0.58733976], dtype=float32),\n",
       " array([ 0.58733743], dtype=float32),\n",
       " array([ 0.58733547], dtype=float32),\n",
       " array([ 0.58733386], dtype=float32),\n",
       " array([ 0.58733261], dtype=float32),\n",
       " array([ 0.58733201], dtype=float32),\n",
       " array([ 0.58733153], dtype=float32),\n",
       " array([ 0.58733124], dtype=float32),\n",
       " array([ 0.58733124], dtype=float32),\n",
       " array([ 0.58733165], dtype=float32),\n",
       " array([ 0.58733213], dtype=float32),\n",
       " array([ 0.58733279], dtype=float32),\n",
       " array([ 0.5873335], dtype=float32),\n",
       " array([ 0.58733439], dtype=float32),\n",
       " array([ 0.58733571], dtype=float32),\n",
       " array([ 0.58733696], dtype=float32),\n",
       " array([ 0.58733821], dtype=float32),\n",
       " array([ 0.58733952], dtype=float32),\n",
       " array([ 0.58783585], dtype=float32),\n",
       " array([ 0.58761114], dtype=float32),\n",
       " array([ 0.58761179], dtype=float32),\n",
       " array([ 0.58763069], dtype=float32),\n",
       " array([ 0.58764464], dtype=float32),\n",
       " array([ 0.58765322], dtype=float32),\n",
       " array([ 0.58765852], dtype=float32),\n",
       " array([ 0.58766204], dtype=float32),\n",
       " array([ 0.58766514], dtype=float32),\n",
       " array([ 0.58766752], dtype=float32),\n",
       " array([ 0.58766955], dtype=float32),\n",
       " array([ 0.58767146], dtype=float32),\n",
       " array([ 0.58767354], dtype=float32),\n",
       " array([ 0.58767545], dtype=float32),\n",
       " array([ 0.58767724], dtype=float32),\n",
       " array([ 0.58767909], dtype=float32),\n",
       " array([ 0.58768111], dtype=float32),\n",
       " array([ 0.58768296], dtype=float32),\n",
       " array([ 0.58768475], dtype=float32),\n",
       " array([ 0.58768654], dtype=float32),\n",
       " array([ 0.58768851], dtype=float32),\n",
       " array([ 0.58769029], dtype=float32),\n",
       " array([ 0.58769208], dtype=float32),\n",
       " array([ 0.58769381], dtype=float32),\n",
       " array([ 0.58769566], dtype=float32),\n",
       " array([ 0.58769745], dtype=float32),\n",
       " array([ 0.58769917], dtype=float32),\n",
       " array([ 0.58770084], dtype=float32),\n",
       " array([ 0.58770287], dtype=float32)]"
      ]
     },
     "execution_count": 8,
     "metadata": {},
     "output_type": "execute_result"
    }
   ],
   "source": [
    "dataNewNew.logitSeq[0:99]"
   ]
  },
  {
   "cell_type": "code",
   "execution_count": 10,
   "metadata": {
    "collapsed": false
   },
   "outputs": [
    {
     "data": {
      "text/plain": [
       "array([[  4.79778671],\n",
       "       [  4.79315233],\n",
       "       [  4.78863716],\n",
       "       [  3.7843883 ],\n",
       "       [  3.78040981],\n",
       "       [  3.77674389],\n",
       "       [  4.77331877],\n",
       "       [  7.77015114],\n",
       "       [  8.76720238],\n",
       "       [  9.76435852],\n",
       "       [ 10.76155853],\n",
       "       [ 11.75883389],\n",
       "       [ 11.75622654],\n",
       "       [ 11.75370789],\n",
       "       [ 11.75123405],\n",
       "       [  9.74889088],\n",
       "       [  8.74668312],\n",
       "       [  7.7445507 ],\n",
       "       [  6.74250698],\n",
       "       [  5.74053812],\n",
       "       [  3.91477346],\n",
       "       [  1.90266967],\n",
       "       [  2.89753079],\n",
       "       [  2.89453554],\n",
       "       [  2.89225578],\n",
       "       [  2.89051247],\n",
       "       [  4.88922024],\n",
       "       [  4.8877449 ],\n",
       "       [  5.88625669],\n",
       "       [  6.88478374],\n",
       "       [  6.88335323],\n",
       "       [  7.8820734 ],\n",
       "       [  7.88080692],\n",
       "       [  7.87970448],\n",
       "       [  7.87851238],\n",
       "       [  7.8774395 ],\n",
       "       [  6.87643909],\n",
       "       [  5.87543869],\n",
       "       [  4.87445307],\n",
       "       [  2.87371874],\n",
       "       [  1.87288225],\n",
       "       [  0.87210536],\n",
       "       [ -1.12861395],\n",
       "       [ -2.12897348],\n",
       "       [ -1.12953782],\n",
       "       [ -0.12995303],\n",
       "       [ -0.13048947],\n",
       "       [  1.86927617],\n",
       "       [  1.86879933],\n",
       "       [  2.86838412],\n",
       "       [  3.86798382],\n",
       "       [  6.86761761],\n",
       "       [  6.86715555],\n",
       "       [  7.86672544],\n",
       "       [  7.86632299],\n",
       "       [  6.92212582],\n",
       "       [  6.91287231],\n",
       "       [  6.90972805],\n",
       "       [  5.90865326],\n",
       "       [  4.90811443],\n",
       "       [  3.90782952],\n",
       "       [  5.90798283],\n",
       "       [  5.90778875],\n",
       "       [  6.90791035],\n",
       "       [  6.90831232],\n",
       "       [  6.90823793],\n",
       "       [  6.90814877],\n",
       "       [  6.90805912],\n",
       "       [  5.90805721],\n",
       "       [  5.90814638],\n",
       "       [  5.90802717],\n",
       "       [  5.90810204],\n",
       "       [  4.90805531],\n",
       "       [  4.90798044],\n",
       "       [  3.90796375],\n",
       "       [  3.90791893],\n",
       "       [  2.90805101],\n",
       "       [  3.90809774],\n",
       "       [  4.90815926],\n",
       "       [  5.90814638],\n",
       "       [  7.90841866],\n",
       "       [  8.90845108],\n",
       "       [  9.90861702],\n",
       "       [ 10.90860367],\n",
       "       [ 11.90860558],\n",
       "       [ 12.90865231],\n",
       "       [ 13.90862465],\n",
       "       [ 14.90856743],\n",
       "       [ 16.90873528],\n",
       "       [ 13.90901184],\n",
       "       [ 11.67590904],\n",
       "       [  9.75832367],\n",
       "       [  6.78607845],\n",
       "       [  4.79601336],\n",
       "       [  4.79973841],\n",
       "       [  4.80121374],\n",
       "       [  4.80180979],\n",
       "       [  3.80213547],\n",
       "       [  3.80228472],\n",
       "       [  2.80244637],\n",
       "       [  1.80272758],\n",
       "       [  2.80283403],\n",
       "       [  1.80318952],\n",
       "       [  0.80357492],\n",
       "       [  0.80381334],\n",
       "       [  1.80399418],\n",
       "       [  1.8042028 ],\n",
       "       [  1.8042922 ],\n",
       "       [  1.80439651],\n",
       "       [  2.80445814],\n",
       "       [  1.80451572],\n",
       "       [  2.80463696],\n",
       "       [  1.80475414],\n",
       "       [  2.80484557],\n",
       "       [  1.80503726],\n",
       "       [  3.80522013],\n",
       "       [  3.80532455],\n",
       "       [  5.8054924 ],\n",
       "       [  5.80556679],\n",
       "       [  6.80567312],\n",
       "       [  6.80583715],\n",
       "       [  6.80595636],\n",
       "       [  6.80603075],\n",
       "       [  5.80614805],\n",
       "       [  5.80622244],\n",
       "       [  5.27854252],\n",
       "       [  4.28178883],\n",
       "       [  1.28373504],\n",
       "       [  0.2849102 ],\n",
       "       [ -0.71425736],\n",
       "       [ -1.71390176],\n",
       "       [ -0.71357191],\n",
       "       [  0.28681755],\n",
       "       [  0.28698146],\n",
       "       [ -0.71285665],\n",
       "       [  0.28723478],\n",
       "       [  0.2874583 ],\n",
       "       [  0.28759241],\n",
       "       [  1.28789246],\n",
       "       [  1.28820539],\n",
       "       [  2.28837132],\n",
       "       [  2.28868437],\n",
       "       [  2.28884816],\n",
       "       [  3.28905869],\n",
       "       [  3.28920794],\n",
       "       [  3.28934193],\n",
       "       [  4.28961229],\n",
       "       [  6.28998852],\n",
       "       [  7.29042292],\n",
       "       [  7.29084015],\n",
       "       [  9.29127598],\n",
       "       [  9.29169369],\n",
       "       [ 10.29206848],\n",
       "       [ 10.29241085],\n",
       "       [ 13.29278946],\n",
       "       [ 14.29302979],\n",
       "       [ 14.29323864],\n",
       "       [ 15.29356861],\n",
       "       [ 16.29368973],\n",
       "       [ 16.29376411],\n",
       "       [ 17.73692703],\n",
       "       [ 17.74251556],\n",
       "       [ 17.74446678],\n",
       "       [ 15.74528217],\n",
       "       [ 14.74562263],\n",
       "       [ 13.74588871],\n",
       "       [ 13.74618721],\n",
       "       [ 13.74632072],\n",
       "       [ 12.74648285],\n",
       "       [ 11.74660015],\n",
       "       [ 11.7466898 ],\n",
       "       [  9.74690914],\n",
       "       [  8.74720478],\n",
       "       [  8.74742889],\n",
       "       [  7.74767971],\n",
       "       [  7.74778414],\n",
       "       [  8.74792004],\n",
       "       [  7.74802256],\n",
       "       [  7.7481122 ],\n",
       "       [  7.74815655],\n",
       "       [  6.74822903],\n",
       "       [  5.74833155],\n",
       "       [  5.74839115],\n",
       "       [  4.74843407],\n",
       "       [  4.74858284],\n",
       "       [  4.74865723],\n",
       "       [  5.74883842],\n",
       "       [  6.74903393],\n",
       "       [  7.7491703 ],\n",
       "       [  8.74927616],\n",
       "       [  8.74932098],\n",
       "       [  8.74950027],\n",
       "       [  7.74973631],\n",
       "       [  6.74988317],\n",
       "       [  5.75000048],\n",
       "       [  4.89224482],\n",
       "       [  4.89750481],\n",
       "       [  3.89918685],\n",
       "       [  2.89979577]], dtype=float32)"
      ]
     },
     "execution_count": 10,
     "metadata": {},
     "output_type": "execute_result"
    }
   ],
   "source": [
    "(np.array(dataNewNew.logitSeq[1100:1299])-np.array(dataNewNew.targetSeq[1100:1299]))*250\n"
   ]
  },
  {
   "cell_type": "code",
   "execution_count": 1,
   "metadata": {
    "collapsed": false
   },
   "outputs": [
    {
     "data": {
      "text/plain": [
       "1"
      ]
     },
     "execution_count": 1,
     "metadata": {},
     "output_type": "execute_result"
    }
   ],
   "source": [
    "int(1.99)"
   ]
  },
  {
   "cell_type": "code",
   "execution_count": 7,
   "metadata": {
    "collapsed": false
   },
   "outputs": [
    {
     "data": {
      "text/plain": [
       "array([ 0.5,  0.5,  0.5,  0.5])"
      ]
     },
     "execution_count": 7,
     "metadata": {},
     "output_type": "execute_result"
    }
   ],
   "source": [
    "test=np.array([[1,2,3,4],[2,3,4,5]])\n",
    "test.std(0)"
   ]
  },
  {
   "cell_type": "code",
   "execution_count": 6,
   "metadata": {
    "collapsed": false
   },
   "outputs": [
    {
     "data": {
      "text/plain": [
       "array([[1, 2, 3, 4],\n",
       "       [2, 3, 4, 5]])"
      ]
     },
     "execution_count": 6,
     "metadata": {},
     "output_type": "execute_result"
    }
   ],
   "source": [
    "test"
   ]
  },
  {
   "cell_type": "code",
   "execution_count": 43,
   "metadata": {
    "collapsed": false
   },
   "outputs": [
    {
     "data": {
      "image/png": "[encoded data removed]",
      "text/plain": [
       "<matplotlib.figure.Figure at 0x7f4fa1b8dc90>"
      ]
     },
     "metadata": {},
     "output_type": "display_data"
    }
   ],
   "source": [
    "#plotPerformance(dataNewNew)\n",
    "data=dataNewNew\n",
    "predictionsByWorkout, targetsByWorkout = transformData(data, scalingFactor=250)\n",
    "residuals = predictionsByWorkout-targetsByWorkout\n",
    "#Compute the means and standard deviations of the residuals\n",
    "means = residuals.mean(0)\n",
    "stds = residuals.std(0)\n",
    "indices=np.array(range(len(means)))\n",
    "#Plot the mean exercise sequence with error bars representing the standard deviation\n",
    "plt.figure()\n",
    "plt.errorbar(indices, means, yerr=stds)\n",
    "#plt.plot([1,2,3],[1,1,1])\n",
    "plt.show()"
   ]
  },
  {
   "cell_type": "code",
   "execution_count": 58,
   "metadata": {
    "collapsed": false
   },
   "outputs": [
    {
     "name": "stdout",
     "output_type": "stream",
     "text": [
      "Loading data file\n",
      "Data file loaded\n",
      "Loading data file\n",
      "Data file loaded\n"
     ]
    }
   ],
   "source": [
    "dataWithSport = loadData('logs/fullData/05_36PM_October_29_2016_epoch_40')\n",
    "dataWithoutSport = loadData('logs/fullData/10_45PM_October_30_2016_epoch_40')"
   ]
  },
  {
   "cell_type": "code",
   "execution_count": 59,
   "metadata": {
    "collapsed": false
   },
   "outputs": [
    {
     "data": {
      "image/png": "[encoded data removed]",
      "text/plain": [
       "<matplotlib.figure.Figure at 0x7f4f97dc50d0>"
      ]
     },
     "metadata": {},
     "output_type": "display_data"
    },
    {
     "data": {
      "image/png": "[encoded data removed]",
      "text/plain": [
       "<matplotlib.figure.Figure at 0x7f4f8237b990>"
      ]
     },
     "metadata": {},
     "output_type": "display_data"
    }
   ],
   "source": [
    "plotPerformance(dataWithSport, plotTitle=\"Medium model with sport\")\n",
    "plotPerformance(dataWithoutSport, plotTitle=\"Medium model without sport\")"
   ]
  },
  {
   "cell_type": "code",
   "execution_count": 62,
   "metadata": {
    "collapsed": false
   },
   "outputs": [
    {
     "data": {
      "image/png": "[encoded data removed]",
      "text/plain": [
       "<matplotlib.figure.Figure at 0x7f4f992b24d0>"
      ]
     },
     "metadata": {},
     "output_type": "display_data"
    }
   ],
   "source": [
    "plotPerformance(dataWithSport)"
   ]
  },
  {
   "cell_type": "code",
   "execution_count": null,
   "metadata": {
    "collapsed": true
   },
   "outputs": [],
   "source": []
  }
 ],
 "metadata": {
  "kernelspec": {
   "display_name": "Python 2",
   "language": "python",
   "name": "python2"
  },
  "language_info": {
   "codemirror_mode": {
    "name": "ipython",
    "version": 2
   },
   "file_extension": ".py",
   "mimetype": "text/x-python",
   "name": "python",
   "nbconvert_exporter": "python",
   "pygments_lexer": "ipython2",
   "version": "2.7.6"
  }
 },
 "nbformat": 4,
 "nbformat_minor": 0
}
