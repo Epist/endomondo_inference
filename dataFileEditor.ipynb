{
 "cells": [
  {
   "cell_type": "code",
   "execution_count": null,
   "metadata": {
    "collapsed": true
   },
   "outputs": [],
   "source": [
    "#Maybe it will make sense to edit Julian's json-creating file instead if it provides a natural way to access the actual values...\n",
    "\n",
    "\n",
    "def createSequentialGenerator(self): #Define a new data generator\n",
    "    filename = self.dataFileName\n",
    "    self.f=open(filename, 'r')\n",
    "    objects = ijson.items(self.f, 'users.item')\n",
    "    self.dataObjects=objects\n",
    "    return self.dataObjects\n",
    "\n",
    "def getNextDataPointSequential(self):\n",
    "    objects=self.createSequentialGenerator()\n",
    "    nextDataPoint=self.__convert(objects.next())\n",
    "\n",
    "    return nextDataPoint\n",
    "\n"
   ]
  }
 ],
 "metadata": {
  "kernelspec": {
   "display_name": "Python 2",
   "language": "python",
   "name": "python2"
  },
  "language_info": {
   "codemirror_mode": {
    "name": "ipython",
    "version": 2
   },
   "file_extension": ".py",
   "mimetype": "text/x-python",
   "name": "python",
   "nbconvert_exporter": "python",
   "pygments_lexer": "ipython2",
   "version": "2.7.6"
  }
 },
 "nbformat": 4,
 "nbformat_minor": 0
}
